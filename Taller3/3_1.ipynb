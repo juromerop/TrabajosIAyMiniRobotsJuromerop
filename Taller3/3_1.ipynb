{
  "nbformat": 4,
  "nbformat_minor": 0,
  "metadata": {
    "colab": {
      "provenance": []
    },
    "kernelspec": {
      "name": "python3",
      "display_name": "Python 3"
    },
    "language_info": {
      "name": "python"
    }
  },
  "cells": [
    {
      "cell_type": "markdown",
      "metadata": {
        "id": "aL07Lx-tKsft"
      },
      "source": [
        "# Tarea 3.1\n",
        "Encontrar, usando el método de AGs, la raíz real del polinomio P(x) = 5x5- 3x4-x3-5x2-x-3 en el\n",
        "intervalo [0.5 1], usando números reales, una población de 100 listas, un solo tipo de cruce y\n",
        "selección por clasificación. Dibuje un cuadro de aptitud contra generación.\n",
        "\n",
        "Para resolver este ejercicio, se realiza mediante la implementación de AGs."
      ]
    },
    {
      "cell_type": "code",
      "execution_count": 1,
      "metadata": {
        "id": "Zr-CJeWcKsfv"
      },
      "outputs": [],
      "source": [
        "import math               # Libreria que se usa para realizar operaciones matemáticas y funciones\n",
        "import random             # Libreria usada para generar números aleatorios\n",
        "import numpy as np        # Encuentra una raiz real entre 0.5 y 1.5\n",
        "import matplotlib.pyplot as plt"
      ]
    },
    {
      "cell_type": "markdown",
      "metadata": {
        "id": "aXjM7KKhKsfw"
      },
      "source": [
        "Para poder evidenciar de mejor modo el desarrollo del ejercicio, se tienen cromosomas de longitud 100 bits, una poblacion de solamente 10 individuos, 200 generaciones, y 1% de mutación. Se tiene una población tan reducida ya que de lo contrario, la obtención del problema sería muy rápida."
      ]
    },
    {
      "cell_type": "code",
      "execution_count": 2,
      "metadata": {
        "id": "9abuvSv4Ksfw"
      },
      "outputs": [],
      "source": [
        "longCrom = 100\n",
        "K = 100\n",
        "M = 200\n",
        "pm = 0.01"
      ]
    },
    {
      "cell_type": "code",
      "execution_count": 3,
      "metadata": {
        "id": "GlaIcx5DKsfw"
      },
      "outputs": [],
      "source": [
        "def ecuacion(x):\n",
        "    valor = 5*x**5-3*x**4-x**3-5*x**2-x-3\n",
        "    return valor"
      ]
    },
    {
      "cell_type": "code",
      "execution_count": 4,
      "metadata": {
        "id": "iJW84yUyKsfx"
      },
      "outputs": [],
      "source": [
        "def genera(K,longCrom):\n",
        "    Pob_nueva = np.zeros([K, longCrom], dtype = int)\n",
        "    cromosoma = np.zeros([longCrom-1], dtype = int)\n",
        "    j = 0\n",
        "    while j < K:\n",
        "        cromosoma = [random.randint(0,1) for i in range(longCrom)]\n",
        "        Pob_nueva[j] = cromosoma\n",
        "        j +=1\n",
        "    return Pob_nueva"
      ]
    },
    {
      "cell_type": "code",
      "execution_count": 13,
      "metadata": {
        "id": "M-wTAja7Ksfx"
      },
      "outputs": [],
      "source": [
        "def evalua( Pob_nueva):\n",
        "    Apt_total = 0\n",
        "    vectorX = np.zeros(K, dtype = float)\n",
        "    probab = np.zeros(K, dtype = float)\n",
        "    aptitud = np.zeros(K, dtype = float)\n",
        "    mejor = 50.\n",
        "    mejorX = 0.\n",
        "\n",
        "    i = 0\n",
        "    while(i < K):\n",
        "        t,x = res_Funcion(Pob_nueva [i])\n",
        "        vectorX[i] = x\n",
        "        aptitud[i] = (10 - abs(t))*100\n",
        "        i += 1\n",
        "    Apt_total = float(sum(aptitud))\n",
        "    probab = 10 * [j/Apt_total for j in aptitud]\n",
        "    maxprobab = np.amax(probab)\n",
        "    maxIndex = np.argmax(probab)\n",
        "    mejorx = vectorX[maxIndex]\n",
        "    probab[maxIndex] = 0.99\n",
        "    return probab, vectorX, max(aptitud)\n",
        "\n",
        "def res_Funcion(cromosoma):\n",
        "    x = decodificar(cromosoma)\n",
        "    funcion= ecuacion(x)\n",
        "    return funcion, x\n",
        "\n",
        "def decodificar(cromosoma):\n",
        "    xi = 0.5  # Limite inferior en el dominio real\n",
        "    xf = 1  # Limite superior en el dominio real\n",
        "    Max = 2 **(longCrom)\n",
        "    cromPot = [cromosoma[i]*2**(longCrom-i-1) for i in range(longCrom)]\n",
        "    valorDecimal = sum(cromPot)\n",
        "    cromPot = 0\n",
        "    valDeco = ((xf-xi)/Max)*(valorDecimal)+xi\n",
        "    return valDeco\n"
      ]
    },
    {
      "cell_type": "code",
      "execution_count": 11,
      "metadata": {
        "id": "sfS50L-_Ksfx"
      },
      "outputs": [],
      "source": [
        "def cruce(Pob_nueva, Probabilidad):\n",
        "    maxprobab = np.amax(prob_cromosoma)\n",
        "    maxIndex = np.argmax(prob_cromosoma)\n",
        "    len(Pob_nueva)\n",
        "    i = 0\n",
        "    while (i < K-1):\n",
        "        mejorCrom = Pob_nueva[maxIndex]\n",
        "        if Probabilidad[i] < 0.97:\n",
        "            rand = random.randint(2,longCrom-1) # Posición de cruce aleatoria\n",
        "            padre1 = Pob_nueva[i]\n",
        "            padre2 = Pob_nueva[i+1]\n",
        "            j = rand\n",
        "            while(j < longCrom):\n",
        "                bit = padre1[j]\n",
        "                padre1[j] = padre2[j]\n",
        "                padre2[j] = bit\n",
        "                j += 1\n",
        "        else:\n",
        "            if maxIndex %2 == 0:\n",
        "                Pob_nueva[i] = Pob_nueva[maxIndex]\n",
        "            else:\n",
        "                Pob_nueva[i+1] = Pob_nueva[maxIndex]\n",
        "        i += 2\n",
        "    return Pob_nueva"
      ]
    },
    {
      "cell_type": "code",
      "execution_count": 14,
      "metadata": {
        "id": "UJB3y3RKKsfy"
      },
      "outputs": [],
      "source": [
        "def muta(Pob_nueva, pm):\n",
        "    totalbits = K * longCrom\n",
        "    segmento = 1/pm\n",
        "    n_segmentos = totalbits/segmento\n",
        "    i =0\n",
        "    while(i < n_segmentos-1):\n",
        "        aleatorio = random.randint(0, segmento-1)\n",
        "        posic = int(i * segmento + aleatorio)\n",
        "        y = int((posic/longCrom))\n",
        "        cromosoma = Pob_nueva[y]\n",
        "        x = posic - longCrom * y\n",
        "        if (cromosoma[x-1] == 0):\n",
        "            cromosoma[x-1] = 1\n",
        "        else:\n",
        "            cromosoma[x-1] = 0\n",
        "        i +=1\n",
        "    return Pob_nueva"
      ]
    },
    {
      "cell_type": "code",
      "execution_count": 8,
      "metadata": {
        "id": "17ArWT0rKsfy"
      },
      "outputs": [],
      "source": [
        "def seleccion_ruleta(poblacion, probabilidad):\n",
        "    chosen = []\n",
        "    while len(chosen)<= K:\n",
        "        for n in range(K):\n",
        "            r = random.random()\n",
        "            for (i, individuo) in enumerate(poblacion):\n",
        "                #print(i)\n",
        "                if i > K:\n",
        "                    break\n",
        "                if r <= probabilidad[i]:\n",
        "                    chosen.append(list(individuo))\n",
        "                    break\n",
        "    return chosen"
      ]
    },
    {
      "cell_type": "markdown",
      "metadata": {
        "id": "z7PFtUdzKsfy"
      },
      "source": [
        "Ya definidas todas las funciones, se realizan las iteraciones para encontrar la mejor solución.\n",
        "\n",
        "Después de cada generación se imprime la mejor solución. Si hay un resultado de valor menor a 0.00001, se terminan los ciclos y se dice que se llegó a una solución.\n",
        "\n",
        "Por último, al final se generan gráficas donde se muestran los resultados del error y del valor determinado por el algoritmo."
      ]
    },
    {
      "cell_type": "code",
      "execution_count": 15,
      "metadata": {
        "id": "yw4lF8YgKsfz",
        "outputId": "8d2fe954-9721-4eca-f0e0-a584ba039aca",
        "colab": {
          "base_uri": "https://localhost:8080/",
          "height": 1000
        }
      },
      "outputs": [
        {
          "output_type": "stream",
          "name": "stdout",
          "text": [
            "Generación  0 Mejor x 0.5019583122124329 mejor solucion  -4.919364387662153\n",
            "Generación  1 Mejor x 0.5000051872124329 mejor solucion  -4.9062846896109535\n",
            "Generación  2 Mejor x 0.5000049487938538 mejor solucion  -4.906283095175227\n",
            "Generación  3 Mejor x 0.5000011340965882 mejor solucion  -4.906257584277043\n",
            "Generación  4 Mejor x 0.5000001804222718 mejor solucion  -4.9062512065740975\n",
            "Generación  5 Mejor x 0.5000001799566105 mejor solucion  -4.906251203459987\n",
            "Generación  6 Mejor x 0.500000060747321 mejor solucion  -4.906250406247726\n",
            "Generación  7 Mejor x 0.5000000598159984 mejor solucion  -4.9062504000195055\n",
            "Generación  8 Mejor x 0.500000059699583 mejor solucion  -4.906250399240978\n",
            "Generación  9 Mejor x 0.5000000596923071 mejor solucion  -4.90625039919232\n",
            "Generación  10 Mejor x 0.5000000596632033 mejor solucion  -4.906250398997688\n",
            "Generación  11 Mejor x 0.5000000000585585 mejor solucion  -4.90625000039161\n",
            "Generación  12 Mejor x 0.5000000000003508 mejor solucion  -4.906250000002347\n",
            "Generación  13 Mejor x 0.5000000000002371 mejor solucion  -4.906250000001586\n",
            "Generación  14 Mejor x 0.5000000000000098 mejor solucion  -4.906250000000066\n",
            "Generación  15 Mejor x 0.5000000000000027 mejor solucion  -4.906250000000018\n",
            "Generación  16 Mejor x 0.5000000000000009 mejor solucion  -4.906250000000006\n",
            "Generación  17 Mejor x 0.5 mejor solucion  -4.90625\n",
            "Generación  18 Mejor x 0.5 mejor solucion  -4.90625\n",
            "Generación  19 Mejor x 0.5 mejor solucion  -4.90625\n",
            "Generación  20 Mejor x 0.5 mejor solucion  -4.90625\n",
            "Generación  21 Mejor x 0.5 mejor solucion  -4.90625\n",
            "Generación  22 Mejor x 0.5 mejor solucion  -4.90625\n",
            "Generación  23 Mejor x 0.5 mejor solucion  -4.90625\n",
            "Generación  24 Mejor x 0.5 mejor solucion  -4.90625\n",
            "Generación  25 Mejor x 0.5 mejor solucion  -4.90625\n",
            "Generación  26 Mejor x 0.5 mejor solucion  -4.90625\n",
            "Generación  27 Mejor x 0.5 mejor solucion  -4.90625\n",
            "Generación  28 Mejor x 0.5 mejor solucion  -4.90625\n",
            "Generación  29 Mejor x 0.5 mejor solucion  -4.90625\n",
            "Generación  30 Mejor x 0.5 mejor solucion  -4.90625\n",
            "Generación  31 Mejor x 0.5 mejor solucion  -4.90625\n",
            "Generación  32 Mejor x 0.5 mejor solucion  -4.90625\n",
            "Generación  33 Mejor x 0.5 mejor solucion  -4.90625\n",
            "Generación  34 Mejor x 0.5 mejor solucion  -4.90625\n",
            "Generación  35 Mejor x 0.5 mejor solucion  -4.90625\n",
            "Generación  36 Mejor x 0.5 mejor solucion  -4.90625\n",
            "Generación  37 Mejor x 0.5 mejor solucion  -4.90625\n",
            "Generación  38 Mejor x 0.5 mejor solucion  -4.90625\n",
            "Generación  39 Mejor x 0.5 mejor solucion  -4.90625\n",
            "Generación  40 Mejor x 0.5 mejor solucion  -4.90625\n",
            "Generación  41 Mejor x 0.5 mejor solucion  -4.90625\n",
            "Generación  42 Mejor x 0.5 mejor solucion  -4.90625\n",
            "Generación  43 Mejor x 0.5 mejor solucion  -4.90625\n",
            "Generación  44 Mejor x 0.5 mejor solucion  -4.90625\n",
            "Generación  45 Mejor x 0.5 mejor solucion  -4.90625\n",
            "Generación  46 Mejor x 0.5 mejor solucion  -4.90625\n",
            "Generación  47 Mejor x 0.5 mejor solucion  -4.90625\n",
            "Generación  48 Mejor x 0.5 mejor solucion  -4.90625\n",
            "Generación  49 Mejor x 0.5 mejor solucion  -4.90625\n",
            "Generación  50 Mejor x 0.5 mejor solucion  -4.90625\n",
            "Generación  51 Mejor x 0.5 mejor solucion  -4.90625\n",
            "Generación  52 Mejor x 0.5 mejor solucion  -4.90625\n",
            "Generación  53 Mejor x 0.5 mejor solucion  -4.90625\n",
            "Generación  54 Mejor x 0.5 mejor solucion  -4.90625\n",
            "Generación  55 Mejor x 0.5 mejor solucion  -4.90625\n",
            "Generación  56 Mejor x 0.5 mejor solucion  -4.90625\n",
            "Generación  57 Mejor x 0.5 mejor solucion  -4.90625\n",
            "Generación  58 Mejor x 0.5 mejor solucion  -4.90625\n",
            "Generación  59 Mejor x 0.5 mejor solucion  -4.90625\n",
            "Generación  60 Mejor x 0.5 mejor solucion  -4.90625\n",
            "Generación  61 Mejor x 0.5 mejor solucion  -4.90625\n",
            "Generación  62 Mejor x 0.5 mejor solucion  -4.90625\n",
            "Generación  63 Mejor x 0.5 mejor solucion  -4.90625\n",
            "Generación  64 Mejor x 0.5 mejor solucion  -4.90625\n",
            "Generación  65 Mejor x 0.5 mejor solucion  -4.90625\n",
            "Generación  66 Mejor x 0.5 mejor solucion  -4.90625\n",
            "Generación  67 Mejor x 0.5 mejor solucion  -4.90625\n",
            "Generación  68 Mejor x 0.5 mejor solucion  -4.90625\n",
            "Generación  69 Mejor x 0.5 mejor solucion  -4.90625\n",
            "Generación  70 Mejor x 0.5 mejor solucion  -4.90625\n",
            "Generación  71 Mejor x 0.5 mejor solucion  -4.90625\n",
            "Generación  72 Mejor x 0.5 mejor solucion  -4.90625\n",
            "Generación  73 Mejor x 0.5 mejor solucion  -4.90625\n",
            "Generación  74 Mejor x 0.5 mejor solucion  -4.90625\n",
            "Generación  75 Mejor x 0.5 mejor solucion  -4.90625\n",
            "Generación  76 Mejor x 0.5 mejor solucion  -4.90625\n",
            "Generación  77 Mejor x 0.5 mejor solucion  -4.90625\n",
            "Generación  78 Mejor x 0.5 mejor solucion  -4.90625\n",
            "Generación  79 Mejor x 0.5 mejor solucion  -4.90625\n",
            "Generación  80 Mejor x 0.5 mejor solucion  -4.90625\n",
            "Generación  81 Mejor x 0.5 mejor solucion  -4.90625\n",
            "Generación  82 Mejor x 0.5 mejor solucion  -4.90625\n",
            "Generación  83 Mejor x 0.5 mejor solucion  -4.90625\n",
            "Generación  84 Mejor x 0.5 mejor solucion  -4.90625\n",
            "Generación  85 Mejor x 0.5 mejor solucion  -4.90625\n",
            "Generación  86 Mejor x 0.5 mejor solucion  -4.90625\n",
            "Generación  87 Mejor x 0.5 mejor solucion  -4.90625\n",
            "Generación  88 Mejor x 0.5 mejor solucion  -4.90625\n",
            "Generación  89 Mejor x 0.5 mejor solucion  -4.90625\n",
            "Generación  90 Mejor x 0.5 mejor solucion  -4.90625\n",
            "Generación  91 Mejor x 0.5 mejor solucion  -4.90625\n",
            "Generación  92 Mejor x 0.5 mejor solucion  -4.90625\n",
            "Generación  93 Mejor x 0.5 mejor solucion  -4.90625\n",
            "Generación  94 Mejor x 0.5 mejor solucion  -4.90625\n",
            "Generación  95 Mejor x 0.5 mejor solucion  -4.90625\n",
            "Generación  96 Mejor x 0.5 mejor solucion  -4.90625\n",
            "Generación  97 Mejor x 0.5 mejor solucion  -4.90625\n",
            "Generación  98 Mejor x 0.5 mejor solucion  -4.90625\n",
            "Generación  99 Mejor x 0.5 mejor solucion  -4.90625\n",
            "Generación  100 Mejor x 0.5 mejor solucion  -4.90625\n",
            "Generación  101 Mejor x 0.5 mejor solucion  -4.90625\n",
            "Generación  102 Mejor x 0.5 mejor solucion  -4.90625\n",
            "Generación  103 Mejor x 0.5 mejor solucion  -4.90625\n",
            "Generación  104 Mejor x 0.5 mejor solucion  -4.90625\n",
            "Generación  105 Mejor x 0.5 mejor solucion  -4.90625\n",
            "Generación  106 Mejor x 0.5 mejor solucion  -4.90625\n",
            "Generación  107 Mejor x 0.5 mejor solucion  -4.90625\n",
            "Generación  108 Mejor x 0.5 mejor solucion  -4.90625\n",
            "Generación  109 Mejor x 0.5 mejor solucion  -4.90625\n",
            "Generación  110 Mejor x 0.5 mejor solucion  -4.90625\n",
            "Generación  111 Mejor x 0.5 mejor solucion  -4.90625\n",
            "Generación  112 Mejor x 0.5 mejor solucion  -4.90625\n",
            "Generación  113 Mejor x 0.5 mejor solucion  -4.90625\n",
            "Generación  114 Mejor x 0.5 mejor solucion  -4.90625\n",
            "Generación  115 Mejor x 0.5 mejor solucion  -4.90625\n",
            "Generación  116 Mejor x 0.5 mejor solucion  -4.90625\n",
            "Generación  117 Mejor x 0.5 mejor solucion  -4.90625\n",
            "Generación  118 Mejor x 0.5 mejor solucion  -4.90625\n",
            "Generación  119 Mejor x 0.5 mejor solucion  -4.90625\n",
            "Generación  120 Mejor x 0.5 mejor solucion  -4.90625\n",
            "Generación  121 Mejor x 0.5 mejor solucion  -4.90625\n",
            "Generación  122 Mejor x 0.5 mejor solucion  -4.90625\n",
            "Generación  123 Mejor x 0.5000000000000001 mejor solucion  -4.90625\n",
            "Generación  124 Mejor x 0.5000000000000001 mejor solucion  -4.90625\n",
            "Generación  125 Mejor x 0.5000000000000001 mejor solucion  -4.90625\n",
            "Generación  126 Mejor x 0.5000000000000001 mejor solucion  -4.90625\n",
            "Generación  127 Mejor x 0.5000000000000001 mejor solucion  -4.90625\n",
            "Generación  128 Mejor x 0.5000000000000001 mejor solucion  -4.90625\n",
            "Generación  129 Mejor x 0.5000000000000001 mejor solucion  -4.90625\n",
            "Generación  130 Mejor x 0.5000000000000001 mejor solucion  -4.90625\n",
            "Generación  131 Mejor x 0.5000000000000001 mejor solucion  -4.90625\n",
            "Generación  132 Mejor x 0.5000000000000001 mejor solucion  -4.90625\n",
            "Generación  133 Mejor x 0.5000000000000001 mejor solucion  -4.90625\n",
            "Generación  134 Mejor x 0.5000000000000001 mejor solucion  -4.90625\n",
            "Generación  135 Mejor x 0.5000000000000001 mejor solucion  -4.90625\n",
            "Generación  136 Mejor x 0.5000000000000001 mejor solucion  -4.90625\n",
            "Generación  137 Mejor x 0.5000000000000001 mejor solucion  -4.90625\n",
            "Generación  138 Mejor x 0.5000000000000001 mejor solucion  -4.90625\n",
            "Generación  139 Mejor x 0.5000000000000001 mejor solucion  -4.90625\n",
            "Generación  140 Mejor x 0.5000000000000001 mejor solucion  -4.90625\n",
            "Generación  141 Mejor x 0.5000000000000001 mejor solucion  -4.90625\n",
            "Generación  142 Mejor x 0.5000000000000001 mejor solucion  -4.90625\n",
            "Generación  143 Mejor x 0.5000000000000001 mejor solucion  -4.90625\n",
            "Generación  144 Mejor x 0.5000000000000001 mejor solucion  -4.90625\n",
            "Generación  145 Mejor x 0.5000000000000001 mejor solucion  -4.90625\n",
            "Generación  146 Mejor x 0.5000000000000001 mejor solucion  -4.90625\n",
            "Generación  147 Mejor x 0.5000000000000001 mejor solucion  -4.90625\n",
            "Generación  148 Mejor x 0.5000000000000001 mejor solucion  -4.90625\n",
            "Generación  149 Mejor x 0.5000000000000001 mejor solucion  -4.90625\n",
            "Generación  150 Mejor x 0.5000000000000001 mejor solucion  -4.90625\n",
            "Generación  151 Mejor x 0.5000000000000001 mejor solucion  -4.90625\n",
            "Generación  152 Mejor x 0.5000000000000001 mejor solucion  -4.90625\n",
            "Generación  153 Mejor x 0.5000000000000001 mejor solucion  -4.90625\n",
            "Generación  154 Mejor x 0.5000000000000001 mejor solucion  -4.90625\n",
            "Generación  155 Mejor x 0.5000000000000001 mejor solucion  -4.90625\n",
            "Generación  156 Mejor x 0.5000000000000001 mejor solucion  -4.90625\n",
            "Generación  157 Mejor x 0.5000000000000001 mejor solucion  -4.90625\n",
            "Generación  158 Mejor x 0.5000000000000001 mejor solucion  -4.90625\n",
            "Generación  159 Mejor x 0.5000000000000001 mejor solucion  -4.90625\n",
            "Generación  160 Mejor x 0.5000000000000001 mejor solucion  -4.90625\n",
            "Generación  161 Mejor x 0.5 mejor solucion  -4.90625\n",
            "Generación  162 Mejor x 0.5 mejor solucion  -4.90625\n",
            "Generación  163 Mejor x 0.5 mejor solucion  -4.90625\n",
            "Generación  164 Mejor x 0.5 mejor solucion  -4.90625\n",
            "Generación  165 Mejor x 0.5 mejor solucion  -4.90625\n",
            "Generación  166 Mejor x 0.5 mejor solucion  -4.90625\n",
            "Generación  167 Mejor x 0.5 mejor solucion  -4.90625\n",
            "Generación  168 Mejor x 0.5 mejor solucion  -4.90625\n",
            "Generación  169 Mejor x 0.5 mejor solucion  -4.90625\n",
            "Generación  170 Mejor x 0.5 mejor solucion  -4.90625\n",
            "Generación  171 Mejor x 0.5 mejor solucion  -4.90625\n",
            "Generación  172 Mejor x 0.5 mejor solucion  -4.90625\n",
            "Generación  173 Mejor x 0.5 mejor solucion  -4.90625\n",
            "Generación  174 Mejor x 0.5 mejor solucion  -4.90625\n",
            "Generación  175 Mejor x 0.5 mejor solucion  -4.90625\n",
            "Generación  176 Mejor x 0.5 mejor solucion  -4.90625\n",
            "Generación  177 Mejor x 0.5 mejor solucion  -4.90625\n",
            "Generación  178 Mejor x 0.5 mejor solucion  -4.90625\n",
            "Generación  179 Mejor x 0.5 mejor solucion  -4.90625\n",
            "Generación  180 Mejor x 0.5 mejor solucion  -4.90625\n",
            "Generación  181 Mejor x 0.5 mejor solucion  -4.90625\n",
            "Generación  182 Mejor x 0.5 mejor solucion  -4.90625\n",
            "Generación  183 Mejor x 0.5 mejor solucion  -4.90625\n",
            "Generación  184 Mejor x 0.5 mejor solucion  -4.90625\n",
            "Generación  185 Mejor x 0.5 mejor solucion  -4.90625\n",
            "Generación  186 Mejor x 0.5 mejor solucion  -4.90625\n",
            "Generación  187 Mejor x 0.5 mejor solucion  -4.90625\n",
            "Generación  188 Mejor x 0.5 mejor solucion  -4.90625\n",
            "Generación  189 Mejor x 0.5 mejor solucion  -4.90625\n",
            "Generación  190 Mejor x 0.5 mejor solucion  -4.90625\n",
            "Generación  191 Mejor x 0.5 mejor solucion  -4.90625\n",
            "Generación  192 Mejor x 0.5000000000000001 mejor solucion  -4.90625\n",
            "Generación  193 Mejor x 0.5000000000000001 mejor solucion  -4.90625\n",
            "Generación  194 Mejor x 0.5000000000000001 mejor solucion  -4.90625\n",
            "Generación  195 Mejor x 0.5000000000000001 mejor solucion  -4.90625\n",
            "Generación  196 Mejor x 0.5000000000000001 mejor solucion  -4.90625\n",
            "Generación  197 Mejor x 0.5000000000000001 mejor solucion  -4.90625\n",
            "Generación  198 Mejor x 0.5000000000000001 mejor solucion  -4.90625\n",
            "Generación  199 Mejor x 0.5000000000000001 mejor solucion  -4.90625\n"
          ]
        },
        {
          "output_type": "display_data",
          "data": {
            "text/plain": [
              "<Figure size 640x480 with 1 Axes>"
            ],
            "image/png": "[encoded data removed]"
          },
          "metadata": {}
        },
        {
          "output_type": "display_data",
          "data": {
            "text/plain": [
              "<Figure size 640x480 with 1 Axes>"
            ],
            "image/png": "[encoded data removed]"
          },
          "metadata": {}
        }
      ],
      "source": [
        "Pob_nueva3 = genera(K,longCrom)\n",
        "prob_cromosoma,vectorX,AptI = evalua(Pob_nueva3)\n",
        "i = 0\n",
        "\n",
        "Px=list()\n",
        "Py=list()\n",
        "PaptI=list()\n",
        "while (i < M):\n",
        "    Pob_vieja = Pob_nueva3\n",
        "    Pob_nueva1 = seleccion_ruleta(Pob_vieja, prob_cromosoma)\n",
        "    Pob_nueva2 = cruce(Pob_nueva1, prob_cromosoma)\n",
        "    Pob_nueva3 = muta(Pob_nueva2, pm)\n",
        "    prob_cromosoma, vectorX,AptI = evalua(Pob_nueva3)\n",
        "    maxprobab = np.amax(prob_cromosoma)\n",
        "    maxIndex = np.argmax(prob_cromosoma)\n",
        "    mejorx = vectorX[maxIndex]\n",
        "    x = mejorx\n",
        "    val = ecuacion(x)\n",
        "    print(\"Generación \", i,\"Mejor x\", x,\"mejor solucion \",val)\n",
        "    if abs(val) < 0.00001:\n",
        "        print()\n",
        "        print(\"Mejor Solucion x\", x,\" con F(x) = \",val)\n",
        "        i = M\n",
        "    Px.append(i)\n",
        "    Py.append(val)\n",
        "    PaptI.append(AptI)\n",
        "    i += 1\n",
        "\n",
        "plt.plot(Px, Py)\n",
        "plt.xlabel('Generación')\n",
        "plt.ylabel('Valor')\n",
        "plt.show()\n",
        "\n",
        "plt.plot(Px, PaptI)\n",
        "plt.xlabel('Generación')\n",
        "plt.ylabel('Aptitud máxima')\n",
        "plt.show()"
      ]
    }
  ]
}