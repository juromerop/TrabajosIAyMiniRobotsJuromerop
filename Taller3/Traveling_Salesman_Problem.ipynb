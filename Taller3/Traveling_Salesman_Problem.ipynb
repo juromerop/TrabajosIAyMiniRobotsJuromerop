{
  "cells": [
    {
      "cell_type": "markdown",
      "metadata": {
        "id": "t1rX9E7dxmbl"
      },
      "source": [
        "# Travelling Salesperson Problem solved using genetic algorithms"
      ]
    },
    {
      "cell_type": "code",
      "execution_count": null,
      "metadata": {
        "id": "R4Jf4xmuxmbn"
      },
      "outputs": [],
      "source": [
        "# Imports\n",
        "import numpy as np\n",
        "import random\n",
        "\n",
        "from datetime import datetime"
      ]
    },
    {
      "cell_type": "code",
      "execution_count": null,
      "metadata": {
        "id": "Ux_W65Pwxmbo"
      },
      "outputs": [],
      "source": [
        "# Parameters\n",
        "n_cities = 20\n",
        "\n",
        "n_population = 100\n",
        "\n",
        "mutation_rate = 0.3"
      ]
    },
    {
      "cell_type": "code",
      "execution_count": null,
      "metadata": {
        "colab": {
          "base_uri": "https://localhost:8080/"
        },
        "id": "UYiVY4UPxmbo",
        "outputId": "b2937c1e-9872-48af-a9be-6de4808e9a63"
      },
      "outputs": [
        {
          "output_type": "execute_result",
          "data": {
            "text/plain": [
              "{'Berlin': [19, 77],\n",
              " 'London': [95, 32],\n",
              " 'Moscow': [78, 36],\n",
              " 'Barcelona': [36, 12],\n",
              " 'Rome': [54, 18],\n",
              " 'Paris': [97, 55],\n",
              " 'Vienna': [48, 81],\n",
              " 'Munich': [57, 20],\n",
              " 'Istanbul': [46, 27],\n",
              " 'Kyiv': [60, 11],\n",
              " 'Bucharest': [95, 19],\n",
              " 'Minsk': [73, 89],\n",
              " 'Warsaw': [1, 84],\n",
              " 'Budapest': [56, 92],\n",
              " 'Milan': [65, 4],\n",
              " 'Prague': [23, 69],\n",
              " 'Sofia': [57, 61],\n",
              " 'Birmingham': [81, 61],\n",
              " 'Brussels': [44, 65],\n",
              " 'Amsterdam': [60, 20]}"
            ]
          },
          "metadata": {},
          "execution_count": 3
        }
      ],
      "source": [
        "# Generating a list of coordenades representing each city\n",
        "coordinates_list = [[x,y] for x,y in zip(np.random.randint(0,100,n_cities),np.random.randint(0,100,n_cities))]\n",
        "names_list = np.array(['Berlin', 'London', 'Moscow', 'Barcelona', 'Rome', 'Paris', 'Vienna', 'Munich', 'Istanbul', 'Kyiv', 'Bucharest', 'Minsk', 'Warsaw', 'Budapest', 'Milan', 'Prague', 'Sofia', 'Birmingham', 'Brussels', 'Amsterdam'])\n",
        "cities_dict = { x:y for x,y in zip(names_list,coordinates_list)}\n",
        "\n",
        "# Function to compute the distance between two points\n",
        "def compute_city_distance_coordinates(a,b):\n",
        "    return ((a[0]-b[0])**2+(a[1]-b[1])**2)**0.5\n",
        "\n",
        "def compute_city_distance_names(city_a, city_b, cities_dict):\n",
        "    return compute_city_distance_coordinates(cities_dict[city_a], cities_dict[city_b])\n",
        "\n",
        "cities_dict"
      ]
    },
    {
      "cell_type": "markdown",
      "metadata": {
        "id": "DsWuL-2Txmbq"
      },
      "source": [
        "## 1. Create the first population set\n",
        "We randomly shuffle the cities N times where N=population_size"
      ]
    },
    {
      "cell_type": "code",
      "execution_count": null,
      "metadata": {
        "colab": {
          "base_uri": "https://localhost:8080/"
        },
        "id": "GJ3fMHCoxmbq",
        "outputId": "474530fe-6287-417e-f3b2-bd24657ef65b"
      },
      "outputs": [
        {
          "output_type": "execute_result",
          "data": {
            "text/plain": [
              "array([['Munich', 'Budapest', 'Barcelona', ..., 'Vienna', 'London',\n",
              "        'Rome'],\n",
              "       ['Budapest', 'London', 'Paris', ..., 'Birmingham', 'Milan',\n",
              "        'Berlin'],\n",
              "       ['Berlin', 'Kyiv', 'London', ..., 'Barcelona', 'Munich', 'Warsaw'],\n",
              "       ...,\n",
              "       ['Moscow', 'Prague', 'Brussels', ..., 'Bucharest', 'Munich',\n",
              "        'Paris'],\n",
              "       ['Milan', 'Moscow', 'Barcelona', ..., 'Brussels', 'Sofia',\n",
              "        'Amsterdam'],\n",
              "       ['Istanbul', 'Birmingham', 'Prague', ..., 'Munich', 'Sofia',\n",
              "        'Brussels']], dtype='<U10')"
            ]
          },
          "metadata": {},
          "execution_count": 4
        }
      ],
      "source": [
        "# First step: Create the first population set\n",
        "def genesis(city_list, n_population):\n",
        "\n",
        "    population_set = []\n",
        "    for i in range(n_population):\n",
        "        #Randomly generating a new solution\n",
        "        sol_i = city_list[np.random.choice(list(range(n_cities)), n_cities, replace=False)]\n",
        "        population_set.append(sol_i)\n",
        "    return np.array(population_set)\n",
        "\n",
        "population_set = genesis(names_list, n_population)\n",
        "population_set"
      ]
    },
    {
      "cell_type": "markdown",
      "metadata": {
        "id": "mSvL_ME9xmbr"
      },
      "source": [
        "## 2. Evaluate solutions fitness\n",
        "The solutions are defined so that the first element on the list is the first city to visit, then the second, etc. and the last city is linked to the first.\n",
        "The fitness function needs to compute the distance between subsequent cities."
      ]
    },
    {
      "cell_type": "code",
      "execution_count": null,
      "metadata": {
        "id": "xrejAePKxmbs"
      },
      "outputs": [],
      "source": [
        "def fitness_eval(city_list, cities_dict):\n",
        "    total = 0\n",
        "    for i in range(n_cities-1):\n",
        "        a = city_list[i]\n",
        "        b = city_list[i+1]\n",
        "        total += compute_city_distance_names(a,b, cities_dict)\n",
        "    return total"
      ]
    },
    {
      "cell_type": "code",
      "execution_count": null,
      "metadata": {
        "colab": {
          "base_uri": "https://localhost:8080/"
        },
        "id": "_PI7UXMDxmbs",
        "outputId": "47e34a0d-de1f-4a4c-dbb3-f637ed84fd27"
      },
      "outputs": [
        {
          "output_type": "execute_result",
          "data": {
            "text/plain": [
              "array([ 914.85365434, 1084.33700829,  979.8986981 ,  928.01067068,\n",
              "        948.44006524, 1051.36379386,  992.20937901,  977.85451167,\n",
              "        997.08856138,  895.89163681, 1096.9811099 , 1012.08537967,\n",
              "        740.939105  , 1012.38690561,  832.18334756,  940.45587061,\n",
              "        819.94977653, 1027.38206461, 1063.84048142, 1005.5932178 ,\n",
              "       1029.08313366,  884.79920933,  968.77695227,  916.5438186 ,\n",
              "        953.95921585, 1058.15443993,  886.11027884,  939.25108851,\n",
              "       1080.39269772, 1020.92560425, 1079.29880044,  927.45964328,\n",
              "        908.3818726 ,  936.93992218,  982.31149064,  942.82157117,\n",
              "        984.95157976,  904.57691279,  846.80248514,  905.76761616,\n",
              "        874.44532627,  908.3518687 , 1022.04539025,  730.70709251,\n",
              "        957.56311482,  919.16231708,  991.5613126 ,  775.08671288,\n",
              "        843.93723134,  905.07071532, 1006.01536278,  943.99192231,\n",
              "        805.18778517, 1080.47998059,  895.19944849,  869.52704417,\n",
              "        911.31137549,  981.8192947 , 1074.0620904 , 1019.15130634,\n",
              "        822.36975708, 1120.2858363 ,  814.05642782,  939.42009016,\n",
              "       1042.07912667,  802.79896686,  932.12254951,  834.66019073,\n",
              "        912.13107169, 1053.19258475, 1026.32521386,  789.14323641,\n",
              "       1027.00774087,  928.20956178,  965.55744722,  951.44487036,\n",
              "        891.63483351,  996.40587698, 1073.21278805, 1022.43308482,\n",
              "       1127.05201121, 1010.24795088,  901.75040669, 1084.80435105,\n",
              "        871.71499542,  942.3424756 ,  954.05705301,  857.79709153,\n",
              "        942.97147586,  972.36150434,  834.4095668 ,  973.3648579 ,\n",
              "       1001.96606252, 1041.91361512,  921.6515787 ,  884.31185883,\n",
              "       1133.01102887, 1001.66769155,  966.02556116,  891.42493542])"
            ]
          },
          "metadata": {},
          "execution_count": 6
        }
      ],
      "source": [
        "def get_all_fitnes(population_set, cities_dict):\n",
        "    fitnes_list = np.zeros(n_population)\n",
        "\n",
        "    #Looping over all solutions computing the fitness for each solution\n",
        "    for i in  range(n_population):\n",
        "        fitnes_list[i] = fitness_eval(population_set[i], cities_dict)\n",
        "\n",
        "    return fitnes_list\n",
        "\n",
        "fitnes_list = get_all_fitnes(population_set,cities_dict)\n",
        "fitnes_list"
      ]
    },
    {
      "cell_type": "markdown",
      "metadata": {
        "id": "WQbh_f9Wxmbt"
      },
      "source": [
        "# 3. Progenitors selection\n",
        "I will select a new set of progenitors using the Roulette Wheel Selection. Generates a list of progenitor pairs where N= len(population_set) but at each position there are two solutions to merge"
      ]
    },
    {
      "cell_type": "code",
      "execution_count": null,
      "metadata": {
        "colab": {
          "base_uri": "https://localhost:8080/"
        },
        "id": "UcpOGqrjxmbu",
        "outputId": "35483375-5417-4a8c-95ba-878fade41039"
      },
      "outputs": [
        {
          "output_type": "execute_result",
          "data": {
            "text/plain": [
              "array(['Barcelona', 'Istanbul', 'Amsterdam', 'Paris', 'Brussels',\n",
              "       'Prague', 'Birmingham', 'Moscow', 'Milan', 'Rome', 'Vienna',\n",
              "       'Budapest', 'Minsk', 'Sofia', 'London', 'Kyiv', 'Warsaw', 'Berlin',\n",
              "       'Munich', 'Bucharest'], dtype='<U10')"
            ]
          },
          "metadata": {},
          "execution_count": 7
        }
      ],
      "source": [
        "def progenitor_selection(population_set,fitnes_list):\n",
        "    total_fit = fitnes_list.sum()\n",
        "    prob_list = fitnes_list/total_fit\n",
        "\n",
        "    #Notice there is the chance that a progenitor. mates with oneself\n",
        "    progenitor_list_a = np.random.choice(list(range(len(population_set))), len(population_set),p=prob_list, replace=True)\n",
        "    progenitor_list_b = np.random.choice(list(range(len(population_set))), len(population_set),p=prob_list, replace=True)\n",
        "\n",
        "    progenitor_list_a = population_set[progenitor_list_a]\n",
        "    progenitor_list_b = population_set[progenitor_list_b]\n",
        "\n",
        "\n",
        "    return np.array([progenitor_list_a,progenitor_list_b])\n",
        "\n",
        "\n",
        "progenitor_list = progenitor_selection(population_set,fitnes_list)\n",
        "progenitor_list[0][2]"
      ]
    },
    {
      "cell_type": "markdown",
      "metadata": {
        "id": "Z6UCEcZixmbu"
      },
      "source": [
        "# 4. Mating\n",
        "For each pair of  parents we'll generate an offspring pair. Since we cannot repeat cities what we'll do is copy a random chunk from one progenitor and fill the blanks with the other progenitor."
      ]
    },
    {
      "cell_type": "code",
      "execution_count": null,
      "metadata": {
        "colab": {
          "base_uri": "https://localhost:8080/"
        },
        "id": "B1LjhAMjxmbu",
        "outputId": "3f3f4544-cecd-4c04-befd-431f90e13c2b"
      },
      "outputs": [
        {
          "output_type": "execute_result",
          "data": {
            "text/plain": [
              "array(['Sofia', 'Vienna', 'Brussels', 'Birmingham', 'Barcelona', 'Prague',\n",
              "       'Berlin', 'Kyiv', 'Budapest', 'Milan', 'Minsk', 'Amsterdam',\n",
              "       'Warsaw', 'Moscow', 'Munich', 'Rome', 'Bucharest', 'London',\n",
              "       'Istanbul', 'Paris'], dtype='<U10')"
            ]
          },
          "metadata": {},
          "execution_count": 8
        }
      ],
      "source": [
        "def mate_progenitors(prog_a, prog_b):\n",
        "    offspring = prog_a[0:5]\n",
        "\n",
        "    for city in prog_b:\n",
        "\n",
        "        if not city in offspring:\n",
        "            offspring = np.concatenate((offspring,[city]))\n",
        "\n",
        "    return offspring\n",
        "\n",
        "\n",
        "\n",
        "def mate_population(progenitor_list):\n",
        "    new_population_set = []\n",
        "    for i in range(progenitor_list.shape[1]):\n",
        "        prog_a, prog_b = progenitor_list[0][i], progenitor_list[1][i]\n",
        "        offspring = mate_progenitors(prog_a, prog_b)\n",
        "        new_population_set.append(offspring)\n",
        "\n",
        "    return new_population_set\n",
        "\n",
        "new_population_set = mate_population(progenitor_list)\n",
        "new_population_set[0]"
      ]
    },
    {
      "cell_type": "markdown",
      "metadata": {
        "id": "PyFBUdnIxmbv"
      },
      "source": [
        "# 5. Mutation\n",
        "Now for each element of the new population we add a random chance of swapping"
      ]
    },
    {
      "cell_type": "code",
      "execution_count": null,
      "metadata": {
        "colab": {
          "base_uri": "https://localhost:8080/"
        },
        "id": "5SLyKRyLxmbv",
        "outputId": "40bb9e4f-253d-44b2-e913-8ff40eef61de"
      },
      "outputs": [
        {
          "output_type": "execute_result",
          "data": {
            "text/plain": [
              "array(['Sofia', 'Vienna', 'Amsterdam', 'Munich', 'Barcelona', 'London',\n",
              "       'Berlin', 'Bucharest', 'Budapest', 'Milan', 'Minsk', 'Brussels',\n",
              "       'Warsaw', 'Moscow', 'Birmingham', 'Prague', 'Kyiv', 'Rome',\n",
              "       'Istanbul', 'Paris'], dtype='<U10')"
            ]
          },
          "metadata": {},
          "execution_count": 9
        }
      ],
      "source": [
        "def mutate_offspring(offspring):\n",
        "    for q in range(int(n_cities*mutation_rate)):\n",
        "        a = np.random.randint(0,n_cities)\n",
        "        b = np.random.randint(0,n_cities)\n",
        "\n",
        "        offspring[a], offspring[b] = offspring[b], offspring[a]\n",
        "\n",
        "    return offspring\n",
        "\n",
        "\n",
        "def mutate_population(new_population_set):\n",
        "    mutated_pop = []\n",
        "    for offspring in new_population_set:\n",
        "        mutated_pop.append(mutate_offspring(offspring))\n",
        "    return mutated_pop\n",
        "\n",
        "mutated_pop = mutate_population(new_population_set)\n",
        "mutated_pop[0]"
      ]
    },
    {
      "cell_type": "markdown",
      "metadata": {
        "id": "N28EZKY3xmbv"
      },
      "source": [
        "# 6. Stopping\n",
        "To select the stopping criteria we'll need to create a loop to stop first. Then I'll set it to loop at 1000 iterations."
      ]
    },
    {
      "cell_type": "code",
      "execution_count": null,
      "metadata": {
        "colab": {
          "base_uri": "https://localhost:8080/"
        },
        "id": "mozk_0yLxmbv",
        "outputId": "4988d67d-0c83-4e49-b86c-4dc8fc229202"
      },
      "outputs": [
        {
          "output_type": "stream",
          "name": "stdout",
          "text": [
            "0 730.7070925069701 952.5306759132271 21/09/23 22:07\n",
            "100 777.1850990312453 942.5788645773845 21/09/23 22:07\n",
            "200 720.8369753565354 947.6597367750896 21/09/23 22:07\n",
            "300 708.6721090741348 944.8142847122188 21/09/23 22:07\n",
            "400 789.5912175561879 954.8592914856117 21/09/23 22:07\n",
            "500 752.8236633480517 942.4768759680404 21/09/23 22:07\n",
            "600 750.0769036329847 952.3166915011881 21/09/23 22:07\n",
            "700 735.3145347471084 958.9050300107015 21/09/23 22:07\n",
            "800 677.6205935287162 950.6662598616546 21/09/23 22:07\n",
            "900 732.0365091506035 932.9620035575306 21/09/23 22:07\n",
            "1000 672.0016574831568 938.1171037008334 21/09/23 22:07\n",
            "1100 627.733439497673 937.6760682202179 21/09/23 22:07\n",
            "1200 734.6306988259824 960.9802681323064 21/09/23 22:07\n",
            "1300 740.442264928716 946.9212186881683 21/09/23 22:07\n",
            "1400 692.5821162447811 942.6338296052475 21/09/23 22:07\n",
            "1500 712.4358856733061 954.0278837689573 21/09/23 22:07\n",
            "1600 698.2470857937838 949.970350566412 21/09/23 22:07\n",
            "1700 743.9336563868402 952.3221617839844 21/09/23 22:08\n",
            "1800 728.9492276296503 951.4189943737597 21/09/23 22:08\n",
            "1900 708.2855001583414 932.5952594006171 21/09/23 22:08\n",
            "2000 756.9749839133201 958.3577185355772 21/09/23 22:08\n",
            "2100 670.0510319580117 942.8504766915255 21/09/23 22:08\n",
            "2200 770.1614841967436 954.1283758032156 21/09/23 22:08\n",
            "2300 750.8075036324432 964.5587810333881 21/09/23 22:08\n",
            "2400 738.5384894298743 943.0672948770349 21/09/23 22:08\n",
            "2500 720.878078372394 931.077411403047 21/09/23 22:08\n",
            "2600 711.5178632824778 939.3850629172532 21/09/23 22:08\n",
            "2700 752.3063540257577 957.4464843543064 21/09/23 22:08\n",
            "2800 770.3748256770498 964.2342882743047 21/09/23 22:08\n",
            "2900 715.3424510278085 942.6765438640202 21/09/23 22:08\n",
            "3000 678.0405089433958 947.3835581730783 21/09/23 22:08\n",
            "3100 756.3942268463603 968.6170602440295 21/09/23 22:08\n",
            "3200 667.8026652870176 955.211543294582 21/09/23 22:08\n",
            "3300 762.7186040490388 947.1875583714198 21/09/23 22:08\n",
            "3400 645.9681622624129 947.2456816327889 21/09/23 22:08\n",
            "3500 685.0804907256137 952.9378720889231 21/09/23 22:08\n",
            "3600 676.79362458401 942.4374773665369 21/09/23 22:08\n",
            "3700 655.5211495293806 931.0591096206197 21/09/23 22:08\n",
            "3800 692.1227341518749 950.4356779605853 21/09/23 22:09\n",
            "3900 734.1631296819892 952.1794635133966 21/09/23 22:09\n",
            "4000 681.4620097844294 941.0451414615839 21/09/23 22:09\n",
            "4100 766.303235157866 938.0129040960917 21/09/23 22:09\n",
            "4200 705.7858331162082 939.8164983966788 21/09/23 22:09\n",
            "4300 660.8859461603357 946.225063556496 21/09/23 22:09\n",
            "4400 731.3699823587878 949.5953192814138 21/09/23 22:09\n",
            "4500 686.9703719520954 941.517123392876 21/09/23 22:09\n",
            "4600 718.4644610981734 951.0483147084655 21/09/23 22:09\n",
            "4700 708.9045970782901 934.4932869579352 21/09/23 22:09\n",
            "4800 750.8155297677572 962.7601505212293 21/09/23 22:09\n",
            "4900 652.4942230436966 933.4026827043855 21/09/23 22:09\n",
            "5000 752.503435602227 971.1087915480837 21/09/23 22:09\n",
            "5100 740.7644525233026 961.6149259773556 21/09/23 22:09\n",
            "5200 732.0038461845286 964.3318875874402 21/09/23 22:09\n",
            "5300 767.1368888295716 962.5184009029123 21/09/23 22:09\n",
            "5400 721.1454179158123 958.2462844113829 21/09/23 22:09\n",
            "5500 780.0338446454138 940.2701688531079 21/09/23 22:09\n",
            "5600 776.9134034047918 947.9530355844535 21/09/23 22:09\n",
            "5700 693.6025253418436 959.325856189899 21/09/23 22:09\n",
            "5800 598.8577013479626 945.6044958297648 21/09/23 22:09\n",
            "5900 765.6084795335435 949.47555986943 21/09/23 22:09\n",
            "6000 744.3829441208663 951.2896776496757 21/09/23 22:10\n",
            "6100 747.7959014570462 953.6370589456632 21/09/23 22:10\n",
            "6200 684.889371035824 944.8377878155745 21/09/23 22:10\n",
            "6300 724.2991248817661 953.2505856050014 21/09/23 22:10\n",
            "6400 781.3478612375893 971.0512321766894 21/09/23 22:10\n",
            "6500 734.6553723183221 947.2141678225569 21/09/23 22:10\n",
            "6600 757.6433601119076 955.9252195603987 21/09/23 22:10\n",
            "6700 701.6751841147736 939.4346484081501 21/09/23 22:10\n",
            "6800 704.1543377045992 927.2759085561516 21/09/23 22:10\n",
            "6900 799.817727735829 953.5431020462826 21/09/23 22:10\n",
            "7000 762.5579879917371 950.4495904423761 21/09/23 22:10\n",
            "7100 762.7724525542778 955.8852637875394 21/09/23 22:10\n",
            "7200 637.6758552174549 947.2268036194774 21/09/23 22:10\n",
            "7300 757.6276116465198 949.4453649864695 21/09/23 22:10\n",
            "7400 711.5445804542378 939.2010252989786 21/09/23 22:10\n",
            "7500 673.7174502045418 936.9173722486926 21/09/23 22:10\n",
            "7600 746.5191224239933 957.1443602031976 21/09/23 22:10\n",
            "7700 763.6725396208494 962.647384978071 21/09/23 22:10\n",
            "7800 737.4951090694389 942.1877281797621 21/09/23 22:10\n",
            "7900 761.8728442043222 955.5342313311385 21/09/23 22:10\n",
            "8000 724.2033010958578 942.0104756871051 21/09/23 22:11\n",
            "8100 715.7777976656903 953.5710424206399 21/09/23 22:11\n",
            "8200 725.742190761649 962.3758448335103 21/09/23 22:11\n",
            "8300 693.458122551838 967.5561211983593 21/09/23 22:11\n",
            "8400 661.2886445356904 948.1262534096813 21/09/23 22:11\n",
            "8500 715.7133811348372 967.4824814534488 21/09/23 22:11\n",
            "8600 784.4889017002309 949.71102885366 21/09/23 22:11\n",
            "8700 736.2067251629667 948.0459840472313 21/09/23 22:11\n",
            "8800 712.3906721008098 957.2047328197581 21/09/23 22:11\n",
            "8900 745.8708774547483 950.0120826469237 21/09/23 22:11\n",
            "9000 746.0090836794826 944.1650537768951 21/09/23 22:11\n",
            "9100 773.1666330691007 954.2614337793182 21/09/23 22:11\n",
            "9200 702.3745098980207 948.3058192801963 21/09/23 22:11\n",
            "9300 772.8084230029466 954.6125266619295 21/09/23 22:11\n",
            "9400 763.6117628398686 956.4607131651328 21/09/23 22:11\n",
            "9500 729.739546030375 949.1924208807784 21/09/23 22:11\n",
            "9600 787.1530664987197 958.4264275388477 21/09/23 22:11\n",
            "9700 739.7277597617067 955.566081898221 21/09/23 22:11\n",
            "9800 677.5359351881755 948.0411301868118 21/09/23 22:11\n",
            "9900 771.7987096161268 954.5608883652894 21/09/23 22:11\n"
          ]
        }
      ],
      "source": [
        "best_solution = [-1,np.inf,np.array([])]\n",
        "for i in range(10000):\n",
        "    if i%100==0: print(i, fitnes_list.min(), fitnes_list.mean(), datetime.now().strftime(\"%d/%m/%y %H:%M\"))\n",
        "    fitnes_list = get_all_fitnes(mutated_pop,cities_dict)\n",
        "\n",
        "    #Saving the best solution\n",
        "    if fitnes_list.min() < best_solution[1]:\n",
        "        best_solution[0] = i\n",
        "        best_solution[1] = fitnes_list.min()\n",
        "        best_solution[2] = np.array(mutated_pop)[fitnes_list.min() == fitnes_list]\n",
        "\n",
        "    progenitor_list = progenitor_selection(population_set,fitnes_list)\n",
        "    new_population_set = mate_population(progenitor_list)\n",
        "\n",
        "    mutated_pop = mutate_population(new_population_set)"
      ]
    },
    {
      "cell_type": "code",
      "execution_count": null,
      "metadata": {
        "colab": {
          "base_uri": "https://localhost:8080/"
        },
        "id": "Lq8I88wtxmbw",
        "outputId": "eea2ddee-4a9c-4e32-cbaf-600523c6dfd6"
      },
      "outputs": [
        {
          "output_type": "execute_result",
          "data": {
            "text/plain": [
              "[3998,\n",
              " 517.3655572905279,\n",
              " array([['Vienna', 'Berlin', 'Prague', 'Warsaw', 'Brussels', 'Moscow',\n",
              "         'Paris', 'Sofia', 'Birmingham', 'Minsk', 'Budapest', 'Bucharest',\n",
              "         'London', 'Munich', 'Kyiv', 'Milan', 'Amsterdam', 'Istanbul',\n",
              "         'Barcelona', 'Rome']], dtype='<U10')]"
            ]
          },
          "metadata": {},
          "execution_count": 11
        }
      ],
      "source": [
        "best_solution"
      ]
    },
    {
      "cell_type": "code",
      "source": [
        "import matplotlib.pyplot as plt\n",
        "\n",
        "# Lists to store data for visualization\n",
        "iterations = []\n",
        "best_fitness_values = []\n",
        "\n",
        "# Main loop\n",
        "for i in range(10000):\n",
        "    if i % 100 == 0:\n",
        "        print(i, fitnes_list.min(), fitnes_list.mean(), datetime.now().strftime(\"%d/%m/%y %H:%M\"))\n",
        "\n",
        "    fitnes_list = get_all_fitnes(mutated_pop, cities_dict)\n",
        "\n",
        "    # Saving the best solution\n",
        "    if fitnes_list.min() < best_solution[1]:\n",
        "        best_solution[0] = i\n",
        "        best_solution[1] = fitnes_list.min()\n",
        "        best_solution[2] = np.array(mutated_pop)[fitnes_list.min() == fitnes_list]\n",
        "\n",
        "    progenitor_list = progenitor_selection(population_set, fitnes_list)\n",
        "    new_population_set = mate_population(progenitor_list)\n",
        "\n",
        "    mutated_pop = mutate_population(new_population_set)\n",
        "\n",
        "    # Append iteration number and best fitness value for visualization\n",
        "    iterations.append(i)\n",
        "    best_fitness_values.append(best_solution[1])\n",
        "\n",
        "# Plot the best fitness value over iterations\n",
        "plt.figure(figsize=(10, 5))\n",
        "plt.plot(iterations, best_fitness_values)\n",
        "plt.xlabel('Iterations')\n",
        "plt.ylabel('Best Fitness Value')\n",
        "plt.title('Genetic Algorithm Performance')\n",
        "plt.show()\n"
      ],
      "metadata": {
        "colab": {
          "base_uri": "https://localhost:8080/",
          "height": 1000
        },
        "id": "DyMOMwI81EGD",
        "outputId": "7304834e-2025-40c1-f8a8-f65f5789cc42"
      },
      "execution_count": 13,
      "outputs": [
        {
          "output_type": "stream",
          "name": "stdout",
          "text": [
            "0 793.7171864517401 974.2107574877564 21/09/23 22:20\n",
            "100 689.4703756005154 942.926422738736 21/09/23 22:20\n",
            "200 748.0405071037668 937.8188028653233 21/09/23 22:20\n",
            "300 705.8351307603613 948.1728356768544 21/09/23 22:20\n",
            "400 734.5744476184519 950.5468655786042 21/09/23 22:20\n",
            "500 688.2862451438777 963.1865880413527 21/09/23 22:20\n",
            "600 702.7791108084805 934.065138239993 21/09/23 22:20\n",
            "700 684.3146282468787 958.6219366492419 21/09/23 22:20\n",
            "800 754.0191366343228 949.3770032782222 21/09/23 22:20\n",
            "900 716.9717506333648 952.8383326685112 21/09/23 22:20\n",
            "1000 754.9175581534962 965.2762927143333 21/09/23 22:20\n",
            "1100 718.6445943953098 940.5389329792895 21/09/23 22:20\n",
            "1200 702.8690025142188 938.6525145460943 21/09/23 22:20\n",
            "1300 702.3783609844928 943.9791995565706 21/09/23 22:20\n",
            "1400 777.5787395362386 948.7767805049314 21/09/23 22:20\n",
            "1500 748.0759284249418 958.0210651683497 21/09/23 22:21\n",
            "1600 691.4386579724868 941.8300989467473 21/09/23 22:21\n",
            "1700 674.7433002422315 947.8283427966658 21/09/23 22:21\n",
            "1800 746.1159486319534 943.6288846858063 21/09/23 22:21\n",
            "1900 677.1509274057953 954.0038478300746 21/09/23 22:21\n",
            "2000 791.3171425499166 979.144817497914 21/09/23 22:21\n",
            "2100 757.2257214623796 949.7437720940449 21/09/23 22:21\n",
            "2200 738.1954382021979 931.1867680129044 21/09/23 22:21\n",
            "2300 700.28318564749 960.4872281086099 21/09/23 22:21\n",
            "2400 617.3410987776912 946.8357704128542 21/09/23 22:21\n",
            "2500 668.6337312221049 953.8398622167045 21/09/23 22:21\n",
            "2600 668.4845833240706 947.8587325502056 21/09/23 22:21\n",
            "2700 640.4901175555291 950.2618027337902 21/09/23 22:21\n",
            "2800 742.9783551125983 954.6726312961534 21/09/23 22:21\n",
            "2900 752.5190539390369 948.4952129876798 21/09/23 22:21\n",
            "3000 693.0281961996518 927.4853578366228 21/09/23 22:21\n",
            "3100 718.4768686595554 939.0031420117301 21/09/23 22:21\n",
            "3200 760.9568381308427 961.8316776317919 21/09/23 22:21\n",
            "3300 759.8332509964196 948.4745909359461 21/09/23 22:21\n",
            "3400 736.4197893365888 940.6276802253275 21/09/23 22:21\n",
            "3500 715.4119369606634 955.2850582449873 21/09/23 22:21\n",
            "3600 747.6649930310143 949.1825385645602 21/09/23 22:21\n",
            "3700 740.1073236866929 956.4999005748641 21/09/23 22:22\n",
            "3800 729.1013988847261 946.3902328516795 21/09/23 22:22\n",
            "3900 708.5885038541729 948.689909030201 21/09/23 22:22\n",
            "4000 674.0235339638529 949.249908736777 21/09/23 22:22\n",
            "4100 598.188229659723 956.9518388632491 21/09/23 22:22\n",
            "4200 729.9269942243204 941.444890859388 21/09/23 22:22\n",
            "4300 738.1426337836106 973.9796159281308 21/09/23 22:22\n",
            "4400 755.150206442898 946.3326748293954 21/09/23 22:22\n",
            "4500 787.315178234977 956.5096112037535 21/09/23 22:22\n",
            "4600 749.5361558342563 946.9282510611519 21/09/23 22:22\n",
            "4700 731.9756295955389 950.5441499090182 21/09/23 22:22\n",
            "4800 730.9414575067291 945.7645272201819 21/09/23 22:22\n",
            "4900 751.4337107350369 926.2283753696095 21/09/23 22:22\n",
            "5000 665.4446964213988 939.4960461014173 21/09/23 22:22\n",
            "5100 706.2285659632569 950.9543876665449 21/09/23 22:22\n",
            "5200 718.8062695799872 952.2349418122785 21/09/23 22:22\n",
            "5300 673.4856713307837 953.4020599936774 21/09/23 22:22\n",
            "5400 765.5643305040802 970.1107505494008 21/09/23 22:22\n",
            "5500 691.4766807983879 942.7196065382974 21/09/23 22:22\n",
            "5600 694.1004396315084 953.3249578520248 21/09/23 22:22\n",
            "5700 732.4795481192897 938.2665825489609 21/09/23 22:22\n",
            "5800 737.0539947514075 960.5182660402969 21/09/23 22:23\n",
            "5900 682.3491096749527 943.7266571385201 21/09/23 22:23\n",
            "6000 748.4285163297944 953.7321568593175 21/09/23 22:23\n",
            "6100 778.7073869386386 956.0445661173779 21/09/23 22:23\n",
            "6200 698.7634240046852 962.8261888559275 21/09/23 22:23\n",
            "6300 731.2134346988911 949.0184528041164 21/09/23 22:23\n",
            "6400 769.9488602499636 961.1847258979426 21/09/23 22:23\n",
            "6500 700.7839812073636 951.821214559068 21/09/23 22:23\n",
            "6600 693.7561333878285 959.0141591189458 21/09/23 22:23\n",
            "6700 719.8912217852271 949.1461534958792 21/09/23 22:23\n",
            "6800 750.9738453704701 956.636859611548 21/09/23 22:23\n",
            "6900 764.8239844782989 949.1099896709658 21/09/23 22:23\n",
            "7000 628.4765775933531 940.9884411299349 21/09/23 22:23\n",
            "7100 744.5681387995567 937.1378416822425 21/09/23 22:23\n",
            "7200 739.0465518335803 942.1172822897211 21/09/23 22:23\n",
            "7300 725.2984524171519 938.2464311302479 21/09/23 22:23\n",
            "7400 750.2355722979462 948.9209657703532 21/09/23 22:23\n",
            "7500 648.9120880002081 935.70448735651 21/09/23 22:23\n",
            "7600 698.8271491810991 940.9380883455286 21/09/23 22:23\n",
            "7700 744.2679902463254 955.8506376325984 21/09/23 22:23\n",
            "7800 709.1997243040264 930.0285628836647 21/09/23 22:23\n",
            "7900 660.6029533606542 945.9859650623829 21/09/23 22:24\n",
            "8000 713.5917567109714 954.6910168122955 21/09/23 22:24\n",
            "8100 735.029037559861 942.8239708593901 21/09/23 22:24\n",
            "8200 721.328702825463 966.7002347143621 21/09/23 22:24\n",
            "8300 706.5047995570752 941.3251741212813 21/09/23 22:24\n",
            "8400 657.8020027157183 950.9397546053074 21/09/23 22:24\n",
            "8500 759.5308355397783 961.7514998830505 21/09/23 22:24\n",
            "8600 705.1897620252394 949.7685248170502 21/09/23 22:24\n",
            "8700 740.4818780151913 965.065078892945 21/09/23 22:24\n",
            "8800 671.6627506553183 943.5582564375497 21/09/23 22:24\n",
            "8900 765.448632670233 959.301212006749 21/09/23 22:24\n",
            "9000 737.3604729301642 956.5971186533341 21/09/23 22:24\n",
            "9100 731.5126398010534 953.3241603634071 21/09/23 22:24\n",
            "9200 726.9156384519677 962.0717211389201 21/09/23 22:24\n",
            "9300 771.3185085852153 942.2944758200804 21/09/23 22:24\n",
            "9400 692.9212979410088 943.3678526020257 21/09/23 22:24\n",
            "9500 707.4572797494941 944.8060427087428 21/09/23 22:24\n",
            "9600 722.6744172449887 947.270379121938 21/09/23 22:24\n",
            "9700 697.6893577918419 948.6803960359545 21/09/23 22:24\n",
            "9800 713.0576781590268 954.3622299251319 21/09/23 22:24\n",
            "9900 756.5368365574678 948.6070420622907 21/09/23 22:25\n"
          ]
        },
        {
          "output_type": "display_data",
          "data": {
            "text/plain": [
              "<Figure size 1000x500 with 1 Axes>"
            ],
            "image/png": "[encoded data removed]"
          },
          "metadata": {}
        }
      ]
    }
  ],
  "metadata": {
    "kernelspec": {
      "display_name": "Python 3",
      "language": "python",
      "name": "python3"
    },
    "language_info": {
      "codemirror_mode": {
        "name": "ipython",
        "version": 3
      },
      "file_extension": ".py",
      "mimetype": "text/x-python",
      "name": "python",
      "nbconvert_exporter": "python",
      "pygments_lexer": "ipython3",
      "version": "3.8.5"
    },
    "colab": {
      "provenance": []
    }
  },
  "nbformat": 4,
  "nbformat_minor": 0
}