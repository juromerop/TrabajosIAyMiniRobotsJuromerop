{
  "nbformat": 4,
  "nbformat_minor": 0,
  "metadata": {
    "colab": {
      "provenance": []
    },
    "kernelspec": {
      "name": "python3",
      "display_name": "Python 3"
    },
    "language_info": {
      "name": "python"
    }
  },
  "cells": [
    {
      "cell_type": "markdown",
      "source": [
        "# Clojure y la programación genética\n",
        "\n",
        "Clojure puede ser utilizado para implementar algoritmos de programación genética y evolución artificial debido a sus características de lenguaje funcional y su capacidad para manipular estructuras de datos de manera flexible. Por ejemplo, Clojure proporciona herramientas para trabajar con listas, árboles y otras estructuras de datos que son comunes en la representación de programas en programación genética. Además, la inmutabilidad y la programación funcional en Clojure pueden facilitar la gestión de la evolución de poblaciones y la evaluación de soluciones candidatas.\n",
        "Clojure se ha utilizado en la comunidad de lenguajes de programación funcional para la investigación en inteligencia artificial y algoritmos evolutivos en general, que a veces incluye la programación genética. Los investigadores y desarrolladores pueden haber utilizado Clojure para implementar algoritmos evolutivos en diversos dominios, incluido el de la programación genética.\n",
        "\n",
        "Dicho esto, es importante destacar que la elección del lenguaje de programación en la investigación suele depender de las preferencias personales y de las necesidades específicas del proyecto. Clojure, al ser un lenguaje funcional que se ejecuta en la JVM, ofrece ventajas en términos de concurrencia y manipulación de estructuras de datos, lo que podría ser útil en contextos de algoritmos evolutivos, incluida la programación genética."
      ],
      "metadata": {
        "id": "80hjBvu5g7C2"
      }
    },
    {
      "cell_type": "markdown",
      "source": [
        "# Ejercicio\n",
        ". En este caso, se resolverá la ecuación x2+2x−3=0x2+2x−3=0 utilizando programación genética para encontrar una aproximación de la raíz de la ecuación."
      ],
      "metadata": {
        "id": "Cns1xfq5hmou"
      }
    },
    {
      "cell_type": "code",
      "source": [
        ";; Representación de un árbol para expresiones matemáticas\n",
        "(defn create-node [type left right]\n",
        "  {:type type :left left :right right})\n",
        "\n",
        "(defn create-leaf [value]\n",
        "  {:type :value :value value})\n",
        "\n",
        "(defn evaluate-tree [tree x]\n",
        "  (case (:type tree)\n",
        "    :value (:value tree)\n",
        "    :add (+ (evaluate-tree (:left tree) x) (evaluate-tree (:right tree) x))\n",
        "    :subtract (- (evaluate-tree (:left tree) x) (evaluate-tree (:right tree) x))\n",
        "    :multiply (* (evaluate-tree (:left tree) x) (evaluate-tree (:right tree) x))\n",
        "    :divide (/ (evaluate-tree (:left tree) x) (evaluate-tree (:right tree) x))))\n",
        "\n",
        "(defn mutate-tree [tree max-depth]\n",
        "  (if (= max-depth 1)\n",
        "    (create-leaf (rand-int 10)) ;; Hojas son valores numéricos\n",
        "    (let [mutation-op (rand-nth [:add :subtract :multiply :divide])]\n",
        "      (create-node mutation-op (mutate-tree (rand-nth [tree (create-leaf (rand-int 10))]) (dec max-depth))\n",
        "                                (mutate-tree (rand-nth [tree (create-leaf (rand-int 10))]) (dec max-depth))))))\n",
        "\n",
        "(defn generate-individual [max-depth]\n",
        "  (mutate-tree (create-leaf (rand-int 10)) max-depth))\n",
        "\n",
        "(defn fitness [individual]\n",
        "  (let [x 1.0 ;; Valor para evaluar la ecuación\n",
        "        actual-result (+ (* x x) (* 2 x) (- 3))]\n",
        "    (Math/abs (- (evaluate-tree individual x) actual-result))))\n",
        "\n",
        "(defn crossover [parent1 parent2]\n",
        "  (let [new-left (if (rand-int 2) (:left parent1) (:left parent2))\n",
        "        new-right (if (rand-int 2) (:right parent1) (:right parent2))]\n",
        "    (create-node (:type parent1) new-left new-right)))\n",
        "\n",
        "(defn genetic-algorithm [max-generations population-size max-depth]\n",
        "  (let [target 0.0\n",
        "        mutation-rate 0.2\n",
        "        population (repeatedly population-size #(generate-individual max-depth))]\n",
        "    (loop [generation 0 current-population population]\n",
        "      (if (or (= generation max-generations) (= (fitness (first current-population)) 0))\n",
        "        (first current-population)\n",
        "        (let [fitness-sorted-population (sort-by #(compare (fitness %) (fitness %2)) current-population)\n",
        "              fittest (first fitness-sorted-population)\n",
        "              new-generation (cons fittest (map (fn [_] (mutate-tree (crossover (rand-nth fitness-sorted-population) (rand-nth fitness-sorted-population)) max-depth)) (rest fitness-sorted-population)))]\n",
        "          (recur (inc generation) new-generation))))))\n",
        "\n",
        "(def result (genetic-algorithm 100 100 5))\n",
        "(println \"Expresión encontrada:\" result)\n",
        "(println \"Resultado de la expresión:\" (evaluate-tree result 1.0))\n"
      ],
      "metadata": {
        "id": "kbyeKpzmhpXy"
      },
      "execution_count": null,
      "outputs": []
    },
    {
      "cell_type": "markdown",
      "source": [
        "# Salida esperada\n",
        "\n",
        "```\n",
        "Expresión encontrada: {:type :add, :left {:type :add, :left {:type :value, :value 3}, :right {:type :multiply, :left {:type :value, :value 3}, :right {:type :value, :value 1}}}, :right {:type :value, :value -3}}\n",
        "Resultado de la expresión: -7.0\n",
        "\n",
        "```\n",
        "\n",
        "\n"
      ],
      "metadata": {
        "id": "Wf80DhHPizJp"
      }
    }
  ]
}