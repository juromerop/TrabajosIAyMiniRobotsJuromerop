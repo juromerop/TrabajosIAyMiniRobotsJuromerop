{
  "nbformat": 4,
  "nbformat_minor": 0,
  "metadata": {
    "colab": {
      "provenance": [],
      "authorship_tag": "ABX9TyN+vs/ZO8sD3WTYan+SsKob",
      "include_colab_link": true
    },
    "kernelspec": {
      "name": "python3",
      "display_name": "Python 3"
    },
    "language_info": {
      "name": "python"
    }
  },
  "cells": [
    {
      "cell_type": "markdown",
      "metadata": {
        "id": "view-in-github",
        "colab_type": "text"
      },
      "source": [
        "<a href=\"https://colab.research.google.com/github/juromerop/TrabajosIAyMiniRobotsJuromerop/blob/main/Taller4/T4E4.ipynb\" target=\"_parent\"><img src=\"https://colab.research.google.com/assets/colab-badge.svg\" alt=\"Open In Colab\"/></a>"
      ]
    },
    {
      "cell_type": "markdown",
      "source": [
        "4. Suponga que desea utilizar Programación Genética para encontrar el diseño de un circuito\n",
        "lógico, tome como, ejemplo el codificador de 7 segmentos. Describa el conjunto de\n",
        "terminales, el conjunto de funciones y la función de aptitud. Use una librería de Python."
      ],
      "metadata": {
        "id": "KPa4L__lbIFN"
      }
    },
    {
      "cell_type": "code",
      "execution_count": 25,
      "metadata": {
        "id": "IIDV8sa1v87w"
      },
      "outputs": [],
      "source": [
        "import random\n",
        "import operator"
      ]
    },
    {
      "cell_type": "markdown",
      "source": [
        "Definimos el conjunto de terminales (entradas binarias), definimos el conjunto de funciones (operaciones lógicas)"
      ],
      "metadata": {
        "id": "6n28r2HObHOg"
      }
    },
    {
      "cell_type": "code",
      "source": [
        "terminals = ['A', 'B', 'C', 'D', 'E', 'F', 'G']\n",
        "\n",
        "functions = {\n",
        "    'AND': operator.and_,\n",
        "    'OR': operator.or_,\n",
        "    'NOT': operator.invert,\n",
        "    'XOR': operator.xor\n",
        "}"
      ],
      "metadata": {
        "id": "EGQQKfzDwWF1"
      },
      "execution_count": 26,
      "outputs": []
    },
    {
      "cell_type": "markdown",
      "source": [
        "Función de aptitud,\n",
        "Creamos una función que tome las entradas binarias y calcule la salida del circuito\n",
        "Devolvemos un valor de aptitud que mida la diferencia entre la salida esperada y la real"
      ],
      "metadata": {
        "id": "-Q8SoWvHbYTc"
      }
    },
    {
      "cell_type": "code",
      "source": [
        "def fitness(individual):\n",
        "    try:\n",
        "        expected_outputs = [0, 1, 2, 3, 4, 5, 6, 7, 8, 9]\n",
        "        actual_outputs = []\n",
        "\n",
        "        num_inputs = len(terminals)\n",
        "        for digit in range(10):\n",
        "            inputs = [int(bit) for bit in format(digit, f'0{num_inputs}b')]\n",
        "            output = evaluate_circuit(individual, inputs)\n",
        "            actual_outputs.append(output)\n",
        "\n",
        "        fitness_value = sum(abs(expected - actual) for expected, actual in zip(expected_outputs, actual_outputs))\n",
        "        return fitness_value\n",
        "    except ValueError:\n",
        "        return 1e9"
      ],
      "metadata": {
        "id": "IRRkLd26wbCG"
      },
      "execution_count": 27,
      "outputs": []
    },
    {
      "cell_type": "markdown",
      "source": [
        "Función para evaluar el circuito lógico"
      ],
      "metadata": {
        "id": "sNd5skckb0gp"
      }
    },
    {
      "cell_type": "code",
      "source": [
        "def evaluate_circuit(individual, inputs):\n",
        "    stack = []\n",
        "    for gene in individual:\n",
        "        if gene in terminals:\n",
        "            stack.append(inputs[terminals.index(gene)])\n",
        "        elif gene in functions:\n",
        "            if gene == 'NOT':\n",
        "                if len(stack) >= 1:\n",
        "                    operand = stack.pop()\n",
        "                    result = functions[gene](operand)\n",
        "                    stack.append(result)\n",
        "                else:\n",
        "                    raise ValueError(\"Operación 'NOT' necesita un operando en la pila.\")\n",
        "            else:\n",
        "                if len(stack) >= 2:\n",
        "                    operand2 = stack.pop()\n",
        "                    operand1 = stack.pop()\n",
        "                    result = functions[gene](operand1, operand2)\n",
        "                    stack.append(result)\n",
        "                else:\n",
        "                    raise ValueError(\"Operación necesita dos operandos en la pila.\")\n",
        "    if len(stack) == 1:\n",
        "        return stack[0]\n",
        "    else:\n",
        "        raise ValueError(\"El diseño del circuito no es válido. Falta operar en algunos valores.\")"
      ],
      "metadata": {
        "id": "sdK-3W20wkmh"
      },
      "execution_count": 28,
      "outputs": []
    },
    {
      "cell_type": "markdown",
      "source": [
        "Creamos la población inicial"
      ],
      "metadata": {
        "id": "8f7OIFNScCsd"
      }
    },
    {
      "cell_type": "code",
      "source": [
        "def create_individual():\n",
        "    chromosome_length = random.randint(10, 20)\n",
        "    return [random.choice(terminals + list(functions.keys())) for _ in range(chromosome_length)]\n",
        "\n",
        "population_size = 100\n",
        "population = [create_individual() for _ in range(population_size)]\n",
        "\n",
        "generations = 50\n",
        "mutation_rate = 0.1"
      ],
      "metadata": {
        "id": "ujjxwZDxwoM6"
      },
      "execution_count": 29,
      "outputs": []
    },
    {
      "cell_type": "code",
      "source": [
        "for generation in range(generations):\n",
        "    fitness_scores = [fitness(individual) for individual in population]\n",
        "    selected_indices = random.choices(range(population_size), k=population_size // 2, weights=fitness_scores)\n",
        "    selected_population = [population[i] for i in selected_indices]\n",
        "\n",
        "    new_population = []\n",
        "    for _ in range(population_size // 2):\n",
        "        parent1, parent2 = random.choices(selected_population, k=2)\n",
        "        crossover_point = random.randint(1, min(len(parent1), len(parent2)) - 1)\n",
        "        child1 = parent1[:crossover_point] + parent2[crossover_point:]\n",
        "        child2 = parent2[:crossover_point] + parent1[crossover_point:]\n",
        "\n",
        "        if random.random() < mutation_rate:\n",
        "            mutation_point = random.randint(0, len(child1) - 1)\n",
        "            child1[mutation_point] = random.choice(terminals + list(functions.keys()))\n",
        "        if random.random() < mutation_rate:\n",
        "            mutation_point = random.randint(0, len(child2) - 1)\n",
        "            child2[mutation_point] = random.choice(terminals + list(functions.keys()))\n",
        "\n",
        "        new_population.extend([child1, child2])\n",
        "\n",
        "    population = new_population"
      ],
      "metadata": {
        "id": "H1kLLL3OwwQI"
      },
      "execution_count": 30,
      "outputs": []
    },
    {
      "cell_type": "markdown",
      "source": [
        "Encontramos el diseno optimo"
      ],
      "metadata": {
        "id": "jw-zzmm3cSkD"
      }
    },
    {
      "cell_type": "code",
      "source": [
        "best_individual = min(population, key=fitness)\n",
        "best_fitness = fitness(best_individual)\n",
        "\n",
        "print(\"Mejor diseño:\", best_individual)\n",
        "print(\"Aptitud del mejor diseño:\", best_fitness)"
      ],
      "metadata": {
        "colab": {
          "base_uri": "https://localhost:8080/"
        },
        "id": "mHvuyX9JwzAr",
        "outputId": "7fefd1e4-dd73-4d64-9a63-b37acb899e22"
      },
      "execution_count": 31,
      "outputs": [
        {
          "output_type": "stream",
          "name": "stdout",
          "text": [
            "Mejor diseño: ['F', 'G', 'B', 'OR', 'NOT', 'E', 'XOR', 'NOT', 'C', 'D', 'OR', 'XOR', 'E', 'D', 'B']\n",
            "Aptitud del mejor diseño: 1000000000.0\n"
          ]
        }
      ]
    }
  ]
}