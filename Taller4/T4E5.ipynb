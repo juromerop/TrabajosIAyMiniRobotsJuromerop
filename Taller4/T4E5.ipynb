{
  "nbformat": 4,
  "nbformat_minor": 0,
  "metadata": {
    "colab": {
      "provenance": [],
      "authorship_tag": "ABX9TyNgzVrg6z8LL8NINL2sZDfk",
      "include_colab_link": true
    },
    "kernelspec": {
      "name": "python3",
      "display_name": "Python 3"
    },
    "language_info": {
      "name": "python"
    }
  },
  "cells": [
    {
      "cell_type": "markdown",
      "metadata": {
        "id": "view-in-github",
        "colab_type": "text"
      },
      "source": [
        "<a href=\"https://colab.research.google.com/github/juromerop/TrabajosIAyMiniRobotsJuromerop/blob/main/Taller4/T4E5.ipynb\" target=\"_parent\"><img src=\"https://colab.research.google.com/assets/colab-badge.svg\" alt=\"Open In Colab\"/></a>"
      ]
    },
    {
      "cell_type": "code",
      "execution_count": null,
      "metadata": {
        "id": "HDzapTwWdNm8"
      },
      "outputs": [],
      "source": [
        "import random\n",
        "import copy"
      ]
    },
    {
      "cell_type": "code",
      "source": [
        "# Definir el conjunto de terminales y funciones\n",
        "terminales = ['N', 'S', 'E', 'W']\n",
        "funciones = ['R']  # Giro a la derecha (puede expandirse con más funciones)"
      ],
      "metadata": {
        "id": "GoaxIYJRXtl1"
      },
      "execution_count": 14,
      "outputs": []
    },
    {
      "cell_type": "code",
      "source": [
        "# Funciones auxiliares para el movimiento y giro del robot\n",
        "def move_forward(current_position, direction):\n",
        "    # Moverse una unidad en la dirección especificada\n",
        "    x, y = current_position\n",
        "    if direction == 'N':\n",
        "        return (x, y + 1)\n",
        "    elif direction == 'S':\n",
        "        return (x, y - 1)\n",
        "    elif direction == 'E':\n",
        "        return (x + 1, y)\n",
        "    elif direction == 'W':\n",
        "        return (x - 1, y)\n",
        "\n",
        "def turn_right(current_direction):\n",
        "    # Girar a la derecha (90 grados)\n",
        "    if current_direction == 'N':\n",
        "        return 'E'\n",
        "    elif current_direction == 'S':\n",
        "        return 'W'\n",
        "    elif current_direction == 'E':\n",
        "        return 'S'\n",
        "    elif current_direction == 'W':\n",
        "        return 'N'"
      ],
      "metadata": {
        "id": "QQmlHlpdXxQV"
      },
      "execution_count": null,
      "outputs": []
    },
    {
      "cell_type": "code",
      "source": [
        "# Función para crear programas genéticos aleatorios\n",
        "def create_program():\n",
        "    # Generar un programa genético aleatorio de longitud aleatoria\n",
        "    program_length = random.randint(10, 50)  # Longitud del programa (ajustar según necesidades)\n",
        "    return [random.choice(terminales + funciones) for _ in range(program_length)]\n"
      ],
      "metadata": {
        "id": "bDllaLGOX0YX"
      },
      "execution_count": null,
      "outputs": []
    },
    {
      "cell_type": "code",
      "source": [
        "# Definir la función de aptitud\n",
        "def fitness(program):\n",
        "    max_steps = 100  # Límite máximo de pasos para evitar bucles infinitos\n",
        "    robot_position = (0, 0)  # Iniciar en la posición (0, 0) de la sala\n",
        "    robot_direction = 'N'  # Iniciar mirando al norte\n",
        "    engineer_positions = [(2, 2), (-1, 1), (3, -1), (-2, -2)]  # Posiciones de los ingenieros\n",
        "    engineer_scores = [0] * len(engineer_positions)  # Inicializar los puntajes de los ingenieros\n",
        "\n",
        "    if not program:  # Si el programa está vacío, asignar puntuación mínima\n",
        "        return 1\n",
        "\n",
        "    for step in range(max_steps):\n",
        "        if robot_position in engineer_positions:\n",
        "            # El robot entrega una galleta al ingeniero en su posición\n",
        "            engineer_scores[engineer_positions.index(robot_position)] += 1\n",
        "\n",
        "        if not program:  # Si el programa está vacío, terminamos\n",
        "            break\n",
        "\n",
        "        # Obtener la próxima instrucción del programa\n",
        "        next_instruction = program.pop(0)\n",
        "\n",
        "        if next_instruction in terminales:\n",
        "            # Si la instrucción es una terminal (dirección), movemos el robot en esa dirección\n",
        "            robot_position = move_forward(robot_position, next_instruction)\n",
        "        elif next_instruction == 'R':\n",
        "            # Si la instrucción es 'R', giramos a la derecha\n",
        "            robot_direction = turn_right(robot_direction)\n",
        "\n",
        "    total_score = sum(engineer_scores)  # Puntaje total obtenido por entregar galletas\n",
        "    return max(total_score, 1)  # Devolver al menos 1 punto"
      ],
      "metadata": {
        "id": "cWnf2z8GX4cH"
      },
      "execution_count": null,
      "outputs": []
    },
    {
      "cell_type": "code",
      "source": [
        "# Crear la población inicial\n",
        "population_size = 100\n",
        "population = [create_program() for _ in range(population_size)]\n",
        "\n",
        "# Evolución de la población\n",
        "generations = 50\n",
        "mutation_rate = 0.1\n",
        "\n",
        "for generation in range(generations):\n",
        "    # Evaluar la aptitud de cada programa en la población\n",
        "    fitness_scores = [fitness(program) for program in population]\n",
        "\n",
        "    # Seleccionar a los programas más aptos para reproducirse\n",
        "    selected_indices = random.choices(range(population_size), k=population_size // 2, weights=fitness_scores)\n",
        "    selected_population = [population[i] for i in selected_indices]\n",
        "\n",
        "    # Crear la nueva generación mediante cruce y mutación\n",
        "    new_population = []\n",
        "    for _ in range(population_size // 2):\n",
        "        parent1, parent2 = random.choices(selected_population, k=2)\n",
        "        min_length = min(len(parent1), len(parent2))\n",
        "\n",
        "        if min_length >= 2:  # Asegurarse de que haya al menos 2 elementos para el cruce\n",
        "            crossover_point = random.randint(1, min_length - 1)\n",
        "            child1 = parent1[:crossover_point] + parent2[crossover_point:]\n",
        "            child2 = parent2[:crossover_point] + parent1[crossover_point:]\n",
        "        else:\n",
        "            # Si alguno de los padres tiene una longitud menor a 2, no se realiza el cruce\n",
        "            child1 = parent1\n",
        "            child2 = parent2\n",
        "\n",
        "        # Aplicar mutación a child1\n",
        "        mutated_child1 = copy.deepcopy(child1)\n",
        "        for i in range(len(mutated_child1)):\n",
        "            if random.random() < mutation_rate:\n",
        "                mutated_child1[i] = random.choice(terminales + funciones)\n",
        "\n",
        "        # Aplicar mutación a child2\n",
        "        mutated_child2 = copy.deepcopy(child2)\n",
        "        for i in range(len(mutated_child2)):\n",
        "            if random.random() < mutation_rate:\n",
        "                mutated_child2[i] = random.choice(terminales + funciones)\n",
        "\n",
        "        new_population.extend([mutated_child1, mutated_child2])\n",
        "\n",
        "    population = new_population"
      ],
      "metadata": {
        "id": "CFq8yK3pX--9"
      },
      "execution_count": null,
      "outputs": []
    },
    {
      "cell_type": "code",
      "source": [
        "# Encontrar el programa óptimo\n",
        "best_program = max(population, key=fitness)\n",
        "best_fitness = fitness(best_program)\n",
        "\n",
        "print(\"Mejor programa genético:\", best_program)\n",
        "print(\"Puntaje del mejor programa:\", best_fitness)"
      ],
      "metadata": {
        "id": "21BZB-tiYCsW"
      },
      "execution_count": null,
      "outputs": []
    }
  ]
}