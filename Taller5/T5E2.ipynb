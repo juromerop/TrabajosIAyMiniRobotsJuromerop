{
  "nbformat": 4,
  "nbformat_minor": 0,
  "metadata": {
    "colab": {
      "provenance": [],
      "authorship_tag": "ABX9TyOrfrPWgAmfrHFRJg5oGV8e",
      "include_colab_link": true
    },
    "kernelspec": {
      "name": "python3",
      "display_name": "Python 3"
    },
    "language_info": {
      "name": "python"
    }
  },
  "cells": [
    {
      "cell_type": "markdown",
      "metadata": {
        "id": "view-in-github",
        "colab_type": "text"
      },
      "source": [
        "<a href=\"https://colab.research.google.com/github/juromerop/TrabajosIAyMiniRobotsJuromerop/blob/main/Taller5/T5E2.ipynb\" target=\"_parent\"><img src=\"https://colab.research.google.com/assets/colab-badge.svg\" alt=\"Open In Colab\"/></a>"
      ]
    },
    {
      "cell_type": "code",
      "execution_count": null,
      "metadata": {
        "id": "ZUOlXMkDfFYo"
      },
      "outputs": [],
      "source": [
        "import tensorflow as tf\n",
        "from tensorflow.keras.preprocessing.image import ImageDataGenerator\n",
        "\n",
        "# Definir rutas de directorios de datos\n",
        "train_data_dir = 'fruits/Training/'  # Directorio de entrenamiento\n",
        "test_data_dir = 'fruits/Test/'  # Directorio de pruebas"
      ]
    },
    {
      "cell_type": "code",
      "source": [
        "# Configurar generadores de imágenes\n",
        "batch_size = 32\n",
        "train_datagen = ImageDataGenerator(\n",
        "    rescale=1.0 / 255,\n",
        "    shear_range=0.2,\n",
        "    zoom_range=0.2,\n",
        "    horizontal_flip=True,\n",
        "    validation_split=0.2  # Dividir automáticamente los datos en conjuntos de entrenamiento y validación\n",
        ")\n",
        "\n",
        "train_generator = train_datagen.flow_from_directory(\n",
        "    train_data_dir,\n",
        "    target_size=(100, 100),  # Redimensionar las imágenes a 100x100 píxeles (ajustar según necesidades)\n",
        "    batch_size=batch_size,\n",
        "    class_mode='categorical',  # Clasificación categórica\n",
        "    subset='training'  # Utilizar el conjunto de entrenamiento\n",
        ")\n",
        "\n",
        "validation_generator = train_datagen.flow_from_directory(\n",
        "    train_data_dir,\n",
        "    target_size=(100, 100),\n",
        "    batch_size=batch_size,\n",
        "    class_mode='categorical',\n",
        "    subset='validation'  # Utilizar el conjunto de validación\n",
        ")"
      ],
      "metadata": {
        "id": "SMYm7GX2grQC"
      },
      "execution_count": null,
      "outputs": []
    },
    {
      "cell_type": "code",
      "source": [
        "# Crear un modelo de red neuronal convolucional\n",
        "model = tf.keras.models.Sequential([\n",
        "    tf.keras.layers.Conv2D(32, (3, 3), activation='relu', input_shape=(100, 100, 3)),\n",
        "    tf.keras.layers.MaxPooling2D((2, 2)),\n",
        "    tf.keras.layers.Flatten(),\n",
        "    tf.keras.layers.Dense(128, activation='relu'),\n",
        "    tf.keras.layers.Dense(4, activation='softmax')  # 4 clases de frutas\n",
        "])"
      ],
      "metadata": {
        "id": "NHpePK6Agtpo"
      },
      "execution_count": null,
      "outputs": []
    },
    {
      "cell_type": "code",
      "source": [
        "# Compilar el modelo\n",
        "model.compile(optimizer='adam', loss='categorical_crossentropy', metrics=['accuracy'])\n",
        "\n",
        "# Entrenar el modelo\n",
        "epochs = 10\n",
        "model.fit(train_generator, validation_data=validation_generator, epochs=epochs)"
      ],
      "metadata": {
        "id": "8_-FPXPmgx1Q"
      },
      "execution_count": null,
      "outputs": []
    },
    {
      "cell_type": "code",
      "source": [
        "# Evaluación del modelo en el conjunto de pruebas\n",
        "test_datagen = ImageDataGenerator(rescale=1.0 / 255)\n",
        "test_generator = test_datagen.flow_from_directory(\n",
        "    test_data_dir,\n",
        "    target_size=(100, 100),\n",
        "    batch_size=batch_size,\n",
        "    class_mode='categorical'\n",
        ")\n",
        "\n",
        "test_loss, test_acc = model.evaluate(test_generator)\n",
        "print(f'Precisión en el conjunto de pruebas: {test_acc}')"
      ],
      "metadata": {
        "id": "Y8iQkl54g0qb"
      },
      "execution_count": null,
      "outputs": []
    }
  ]
}