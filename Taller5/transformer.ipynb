{
  "nbformat": 4,
  "nbformat_minor": 0,
  "metadata": {
    "colab": {
      "provenance": []
    },
    "kernelspec": {
      "name": "python3",
      "display_name": "Python 3"
    },
    "language_info": {
      "name": "python"
    }
  },
  "cells": [
    {
      "cell_type": "code",
      "execution_count": 1,
      "metadata": {
        "id": "tVT3MVVDsWbg"
      },
      "outputs": [],
      "source": [
        "import torch\n",
        "import torch.nn as nn\n",
        "import torch.optim as optim\n",
        "import torch.utils.data as data\n",
        "import math\n",
        "import copy"
      ]
    },
    {
      "cell_type": "code",
      "source": [
        "class MultiHeadAttention(nn.Module):\n",
        "    def __init__(self, d_model, num_heads):\n",
        "        super(MultiHeadAttention, self).__init__()\n",
        "        # Ensure that the model dimension (d_model) is divisible by the number of heads\n",
        "        assert d_model % num_heads == 0, \"d_model must be divisible by num_heads\"\n",
        "\n",
        "        # Initialize dimensions\n",
        "        self.d_model = d_model # Model's dimension\n",
        "        self.num_heads = num_heads # Number of attention heads\n",
        "        self.d_k = d_model // num_heads # Dimension of each head's key, query, and value\n",
        "\n",
        "        # Linear layers for transforming inputs\n",
        "        self.W_q = nn.Linear(d_model, d_model) # Query transformation\n",
        "        self.W_k = nn.Linear(d_model, d_model) # Key transformation\n",
        "        self.W_v = nn.Linear(d_model, d_model) # Value transformation\n",
        "        self.W_o = nn.Linear(d_model, d_model) # Output transformation\n",
        "\n",
        "    def scaled_dot_product_attention(self, Q, K, V, mask=None):\n",
        "        # Calculate attention scores\n",
        "        attn_scores = torch.matmul(Q, K.transpose(-2, -1)) / math.sqrt(self.d_k)\n",
        "\n",
        "        # Apply mask if provided (useful for preventing attention to certain parts like padding)\n",
        "        if mask is not None:\n",
        "            attn_scores = attn_scores.masked_fill(mask == 0, -1e9)\n",
        "\n",
        "        # Softmax is applied to obtain attention probabilities\n",
        "        attn_probs = torch.softmax(attn_scores, dim=-1)\n",
        "\n",
        "        # Multiply by values to obtain the final output\n",
        "        output = torch.matmul(attn_probs, V)\n",
        "        return output\n",
        "\n",
        "    def split_heads(self, x):\n",
        "        # Reshape the input to have num_heads for multi-head attention\n",
        "        batch_size, seq_length, d_model = x.size()\n",
        "        return x.view(batch_size, seq_length, self.num_heads, self.d_k).transpose(1, 2)\n",
        "\n",
        "    def combine_heads(self, x):\n",
        "        # Combine the multiple heads back to original shape\n",
        "        batch_size, _, seq_length, d_k = x.size()\n",
        "        return x.transpose(1, 2).contiguous().view(batch_size, seq_length, self.d_model)\n",
        "\n",
        "    def forward(self, Q, K, V, mask=None):\n",
        "        # Apply linear transformations and split heads\n",
        "        Q = self.split_heads(self.W_q(Q))\n",
        "        K = self.split_heads(self.W_k(K))\n",
        "        V = self.split_heads(self.W_v(V))\n",
        "\n",
        "        # Perform scaled dot-product attention\n",
        "        attn_output = self.scaled_dot_product_attention(Q, K, V, mask)\n",
        "\n",
        "        # Combine heads and apply output transformation\n",
        "        output = self.W_o(self.combine_heads(attn_output))\n",
        "        return output"
      ],
      "metadata": {
        "id": "0GAn5ReysalQ"
      },
      "execution_count": 2,
      "outputs": []
    },
    {
      "cell_type": "code",
      "source": [
        "class PositionWiseFeedForward(nn.Module):\n",
        "    def __init__(self, d_model, d_ff):\n",
        "        super(PositionWiseFeedForward, self).__init__()\n",
        "        self.fc1 = nn.Linear(d_model, d_ff)\n",
        "        self.fc2 = nn.Linear(d_ff, d_model)\n",
        "        self.relu = nn.ReLU()\n",
        "\n",
        "    def forward(self, x):\n",
        "        return self.fc2(self.relu(self.fc1(x)))"
      ],
      "metadata": {
        "id": "Q1v-C6n3seJp"
      },
      "execution_count": 3,
      "outputs": []
    },
    {
      "cell_type": "code",
      "source": [
        "class PositionalEncoding(nn.Module):\n",
        "    def __init__(self, d_model, max_seq_length):\n",
        "        super(PositionalEncoding, self).__init__()\n",
        "\n",
        "        pe = torch.zeros(max_seq_length, d_model)\n",
        "        position = torch.arange(0, max_seq_length, dtype=torch.float).unsqueeze(1)\n",
        "        div_term = torch.exp(torch.arange(0, d_model, 2).float() * -(math.log(10000.0) / d_model))\n",
        "\n",
        "        pe[:, 0::2] = torch.sin(position * div_term)\n",
        "        pe[:, 1::2] = torch.cos(position * div_term)\n",
        "\n",
        "        self.register_buffer('pe', pe.unsqueeze(0))\n",
        "\n",
        "    def forward(self, x):\n",
        "        return x + self.pe[:, :x.size(1)]"
      ],
      "metadata": {
        "id": "OD5yZKoKsykx"
      },
      "execution_count": 4,
      "outputs": []
    },
    {
      "cell_type": "code",
      "source": [
        "class EncoderLayer(nn.Module):\n",
        "    def __init__(self, d_model, num_heads, d_ff, dropout):\n",
        "        super(EncoderLayer, self).__init__()\n",
        "        self.self_attn = MultiHeadAttention(d_model, num_heads)\n",
        "        self.feed_forward = PositionWiseFeedForward(d_model, d_ff)\n",
        "        self.norm1 = nn.LayerNorm(d_model)\n",
        "        self.norm2 = nn.LayerNorm(d_model)\n",
        "        self.dropout = nn.Dropout(dropout)\n",
        "\n",
        "    def forward(self, x, mask):\n",
        "        attn_output = self.self_attn(x, x, x, mask)\n",
        "        x = self.norm1(x + self.dropout(attn_output))\n",
        "        ff_output = self.feed_forward(x)\n",
        "        x = self.norm2(x + self.dropout(ff_output))\n",
        "        return x"
      ],
      "metadata": {
        "id": "56m77J2ws2W6"
      },
      "execution_count": 5,
      "outputs": []
    },
    {
      "cell_type": "code",
      "source": [
        "class DecoderLayer(nn.Module):\n",
        "    def __init__(self, d_model, num_heads, d_ff, dropout):\n",
        "        super(DecoderLayer, self).__init__()\n",
        "        self.self_attn = MultiHeadAttention(d_model, num_heads)\n",
        "        self.cross_attn = MultiHeadAttention(d_model, num_heads)\n",
        "        self.feed_forward = PositionWiseFeedForward(d_model, d_ff)\n",
        "        self.norm1 = nn.LayerNorm(d_model)\n",
        "        self.norm2 = nn.LayerNorm(d_model)\n",
        "        self.norm3 = nn.LayerNorm(d_model)\n",
        "        self.dropout = nn.Dropout(dropout)\n",
        "\n",
        "    def forward(self, x, enc_output, src_mask, tgt_mask):\n",
        "        attn_output = self.self_attn(x, x, x, tgt_mask)\n",
        "        x = self.norm1(x + self.dropout(attn_output))\n",
        "        attn_output = self.cross_attn(x, enc_output, enc_output, src_mask)\n",
        "        x = self.norm2(x + self.dropout(attn_output))\n",
        "        ff_output = self.feed_forward(x)\n",
        "        x = self.norm3(x + self.dropout(ff_output))\n",
        "        return x"
      ],
      "metadata": {
        "id": "LwaXvjvxs4Yd"
      },
      "execution_count": 6,
      "outputs": []
    },
    {
      "cell_type": "code",
      "source": [
        "class Transformer(nn.Module):\n",
        "    def __init__(self, src_vocab_size, tgt_vocab_size, d_model, num_heads, num_layers, d_ff, max_seq_length, dropout):\n",
        "        super(Transformer, self).__init__()\n",
        "        self.encoder_embedding = nn.Embedding(src_vocab_size, d_model)\n",
        "        self.decoder_embedding = nn.Embedding(tgt_vocab_size, d_model)\n",
        "        self.positional_encoding = PositionalEncoding(d_model, max_seq_length)\n",
        "\n",
        "        self.encoder_layers = nn.ModuleList([EncoderLayer(d_model, num_heads, d_ff, dropout) for _ in range(num_layers)])\n",
        "        self.decoder_layers = nn.ModuleList([DecoderLayer(d_model, num_heads, d_ff, dropout) for _ in range(num_layers)])\n",
        "\n",
        "        self.fc = nn.Linear(d_model, tgt_vocab_size)\n",
        "        self.dropout = nn.Dropout(dropout)\n",
        "\n",
        "    def generate_mask(self, src, tgt):\n",
        "        src_mask = (src != 0).unsqueeze(1).unsqueeze(2)\n",
        "        tgt_mask = (tgt != 0).unsqueeze(1).unsqueeze(3)\n",
        "        seq_length = tgt.size(1)\n",
        "        nopeak_mask = (1 - torch.triu(torch.ones(1, seq_length, seq_length), diagonal=1)).bool()\n",
        "        tgt_mask = tgt_mask & nopeak_mask\n",
        "        return src_mask, tgt_mask\n",
        "\n",
        "    def forward(self, src, tgt):\n",
        "        src_mask, tgt_mask = self.generate_mask(src, tgt)\n",
        "        src_embedded = self.dropout(self.positional_encoding(self.encoder_embedding(src)))\n",
        "        tgt_embedded = self.dropout(self.positional_encoding(self.decoder_embedding(tgt)))\n",
        "\n",
        "        enc_output = src_embedded\n",
        "        for enc_layer in self.encoder_layers:\n",
        "            enc_output = enc_layer(enc_output, src_mask)\n",
        "\n",
        "        dec_output = tgt_embedded\n",
        "        for dec_layer in self.decoder_layers:\n",
        "            dec_output = dec_layer(dec_output, enc_output, src_mask, tgt_mask)\n",
        "\n",
        "        output = self.fc(dec_output)\n",
        "        return output"
      ],
      "metadata": {
        "id": "dShTMqtes643"
      },
      "execution_count": 7,
      "outputs": []
    },
    {
      "cell_type": "code",
      "source": [
        "src_vocab_size = 5000\n",
        "tgt_vocab_size = 5000\n",
        "d_model = 512\n",
        "num_heads = 8\n",
        "num_layers = 6\n",
        "d_ff = 2048\n",
        "max_seq_length = 100\n",
        "dropout = 0.1\n",
        "\n",
        "transformer = Transformer(src_vocab_size, tgt_vocab_size, d_model, num_heads, num_layers, d_ff, max_seq_length, dropout)\n",
        "\n",
        "# Generate random sample data\n",
        "src_data = torch.randint(1, src_vocab_size, (64, max_seq_length))  # (batch_size, seq_length)\n",
        "tgt_data = torch.randint(1, tgt_vocab_size, (64, max_seq_length))  # (batch_size, seq_length)"
      ],
      "metadata": {
        "id": "Jzq3-Iu-uMPc"
      },
      "execution_count": 8,
      "outputs": []
    },
    {
      "cell_type": "code",
      "source": [
        "transformer = Transformer(src_vocab_size, tgt_vocab_size, d_model, num_heads, num_layers, d_ff, max_seq_length, dropout)"
      ],
      "metadata": {
        "id": "J8QmC1rluMri"
      },
      "execution_count": 9,
      "outputs": []
    },
    {
      "cell_type": "code",
      "source": [
        "criterion = nn.CrossEntropyLoss(ignore_index=0)\n",
        "optimizer = optim.Adam(transformer.parameters(), lr=0.0001, betas=(0.9, 0.98), eps=1e-9)\n",
        "\n",
        "transformer.train()\n",
        "\n",
        "for epoch in range(100):\n",
        "    optimizer.zero_grad()\n",
        "    output = transformer(src_data, tgt_data[:, :-1])\n",
        "    loss = criterion(output.contiguous().view(-1, tgt_vocab_size), tgt_data[:, 1:].contiguous().view(-1))\n",
        "    loss.backward()\n",
        "    optimizer.step()\n",
        "    print(f\"Epoch: {epoch+1}, Loss: {loss.item()}\")"
      ],
      "metadata": {
        "colab": {
          "base_uri": "https://localhost:8080/"
        },
        "id": "PnPA57GJuPuU",
        "outputId": "327c8836-557c-41e1-e440-95471b61c499"
      },
      "execution_count": 10,
      "outputs": [
        {
          "output_type": "stream",
          "name": "stdout",
          "text": [
            "Epoch: 1, Loss: 8.682548522949219\n",
            "Epoch: 2, Loss: 8.55419921875\n",
            "Epoch: 3, Loss: 8.485867500305176\n",
            "Epoch: 4, Loss: 8.43228530883789\n",
            "Epoch: 5, Loss: 8.377975463867188\n",
            "Epoch: 6, Loss: 8.312134742736816\n",
            "Epoch: 7, Loss: 8.23131275177002\n",
            "Epoch: 8, Loss: 8.15265941619873\n",
            "Epoch: 9, Loss: 8.073653221130371\n",
            "Epoch: 10, Loss: 7.990199089050293\n",
            "Epoch: 11, Loss: 7.9106059074401855\n",
            "Epoch: 12, Loss: 7.828005790710449\n",
            "Epoch: 13, Loss: 7.748473644256592\n",
            "Epoch: 14, Loss: 7.662031650543213\n",
            "Epoch: 15, Loss: 7.578332901000977\n",
            "Epoch: 16, Loss: 7.496180534362793\n",
            "Epoch: 17, Loss: 7.412686347961426\n",
            "Epoch: 18, Loss: 7.330242156982422\n",
            "Epoch: 19, Loss: 7.247087478637695\n",
            "Epoch: 20, Loss: 7.170742988586426\n",
            "Epoch: 21, Loss: 7.08420991897583\n",
            "Epoch: 22, Loss: 7.005100250244141\n",
            "Epoch: 23, Loss: 6.927003383636475\n",
            "Epoch: 24, Loss: 6.860819339752197\n",
            "Epoch: 25, Loss: 6.781271457672119\n",
            "Epoch: 26, Loss: 6.719170570373535\n",
            "Epoch: 27, Loss: 6.639335632324219\n",
            "Epoch: 28, Loss: 6.575380802154541\n",
            "Epoch: 29, Loss: 6.500360012054443\n",
            "Epoch: 30, Loss: 6.429085731506348\n",
            "Epoch: 31, Loss: 6.352809906005859\n",
            "Epoch: 32, Loss: 6.289909362792969\n",
            "Epoch: 33, Loss: 6.2172417640686035\n",
            "Epoch: 34, Loss: 6.1510796546936035\n",
            "Epoch: 35, Loss: 6.085781574249268\n",
            "Epoch: 36, Loss: 6.024641036987305\n",
            "Epoch: 37, Loss: 5.968561172485352\n",
            "Epoch: 38, Loss: 5.901066303253174\n",
            "Epoch: 39, Loss: 5.829061508178711\n",
            "Epoch: 40, Loss: 5.766231536865234\n",
            "Epoch: 41, Loss: 5.711575031280518\n",
            "Epoch: 42, Loss: 5.646734237670898\n",
            "Epoch: 43, Loss: 5.588915824890137\n",
            "Epoch: 44, Loss: 5.5259108543396\n",
            "Epoch: 45, Loss: 5.471502304077148\n",
            "Epoch: 46, Loss: 5.407161712646484\n",
            "Epoch: 47, Loss: 5.342100143432617\n",
            "Epoch: 48, Loss: 5.284428596496582\n",
            "Epoch: 49, Loss: 5.231245994567871\n",
            "Epoch: 50, Loss: 5.1717071533203125\n",
            "Epoch: 51, Loss: 5.117407321929932\n",
            "Epoch: 52, Loss: 5.058736324310303\n",
            "Epoch: 53, Loss: 5.0040059089660645\n",
            "Epoch: 54, Loss: 4.951104164123535\n",
            "Epoch: 55, Loss: 4.89433479309082\n",
            "Epoch: 56, Loss: 4.837600231170654\n",
            "Epoch: 57, Loss: 4.790550231933594\n",
            "Epoch: 58, Loss: 4.743412971496582\n",
            "Epoch: 59, Loss: 4.685122013092041\n",
            "Epoch: 60, Loss: 4.632752418518066\n",
            "Epoch: 61, Loss: 4.582803249359131\n",
            "Epoch: 62, Loss: 4.529180526733398\n",
            "Epoch: 63, Loss: 4.472339153289795\n",
            "Epoch: 64, Loss: 4.427853584289551\n",
            "Epoch: 65, Loss: 4.371998310089111\n",
            "Epoch: 66, Loss: 4.325108528137207\n",
            "Epoch: 67, Loss: 4.27531623840332\n",
            "Epoch: 68, Loss: 4.217070579528809\n",
            "Epoch: 69, Loss: 4.170065402984619\n",
            "Epoch: 70, Loss: 4.125426292419434\n",
            "Epoch: 71, Loss: 4.071837902069092\n",
            "Epoch: 72, Loss: 4.028285026550293\n",
            "Epoch: 73, Loss: 3.9762043952941895\n",
            "Epoch: 74, Loss: 3.9359443187713623\n",
            "Epoch: 75, Loss: 3.871272563934326\n",
            "Epoch: 76, Loss: 3.829887628555298\n",
            "Epoch: 77, Loss: 3.7809715270996094\n",
            "Epoch: 78, Loss: 3.7313687801361084\n",
            "Epoch: 79, Loss: 3.6914589405059814\n",
            "Epoch: 80, Loss: 3.643827199935913\n",
            "Epoch: 81, Loss: 3.5913925170898438\n",
            "Epoch: 82, Loss: 3.5483932495117188\n",
            "Epoch: 83, Loss: 3.50618314743042\n",
            "Epoch: 84, Loss: 3.451910972595215\n",
            "Epoch: 85, Loss: 3.4077670574188232\n",
            "Epoch: 86, Loss: 3.362776279449463\n",
            "Epoch: 87, Loss: 3.3262393474578857\n",
            "Epoch: 88, Loss: 3.281801700592041\n",
            "Epoch: 89, Loss: 3.227851390838623\n",
            "Epoch: 90, Loss: 3.187415838241577\n",
            "Epoch: 91, Loss: 3.1422038078308105\n",
            "Epoch: 92, Loss: 3.0958049297332764\n",
            "Epoch: 93, Loss: 3.05653977394104\n",
            "Epoch: 94, Loss: 3.01223087310791\n",
            "Epoch: 95, Loss: 2.9734625816345215\n",
            "Epoch: 96, Loss: 2.927741765975952\n",
            "Epoch: 97, Loss: 2.887327194213867\n",
            "Epoch: 98, Loss: 2.836761713027954\n",
            "Epoch: 99, Loss: 2.796391010284424\n",
            "Epoch: 100, Loss: 2.7539892196655273\n"
          ]
        }
      ]
    },
    {
      "cell_type": "code",
      "source": [
        "transformer.eval()\n",
        "\n",
        "# Generate random sample validation data\n",
        "val_src_data = torch.randint(1, src_vocab_size, (64, max_seq_length))  # (batch_size, seq_length)\n",
        "val_tgt_data = torch.randint(1, tgt_vocab_size, (64, max_seq_length))  # (batch_size, seq_length)\n",
        "\n",
        "with torch.no_grad():\n",
        "\n",
        "    val_output = transformer(val_src_data, val_tgt_data[:, :-1])\n",
        "    val_loss = criterion(val_output.contiguous().view(-1, tgt_vocab_size), val_tgt_data[:, 1:].contiguous().view(-1))\n",
        "    print(f\"Validation Loss: {val_loss.item()}\")"
      ],
      "metadata": {
        "colab": {
          "base_uri": "https://localhost:8080/"
        },
        "id": "nZGEhos3uRwK",
        "outputId": "b8197f64-685f-4b04-d48f-507ff6b441a6"
      },
      "execution_count": 11,
      "outputs": [
        {
          "output_type": "stream",
          "name": "stdout",
          "text": [
            "Validation Loss: 8.809242248535156\n"
          ]
        }
      ]
    }
  ]
}